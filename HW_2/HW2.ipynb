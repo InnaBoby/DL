{
 "cells": [
  {
   "cell_type": "markdown",
   "metadata": {
    "id": "w35Q6hOIy4sk",
    "pycharm": {
     "name": "#%% md\n"
    }
   },
   "source": [
    "# Глубинное обучение, ИИ ВШЭ\n",
    "\n",
    "## Домашнее задание 2. Классификация при помощи CNN. \n",
    "\n",
    "### Общая информация\n",
    "\n",
    "### Оценивание и штрафы\n",
    "\n",
    "Максимально допустимая оценка за работу без бонусов — 10 баллов. Сдавать задание после указанного срока жесткого дедлайна нельзя.\n",
    "\n",
    "Сдача работы после мягкого дедлайна штрафуется ступенчато, -1 балл в сутки. Один раз за модуль студентам предоставляется возможность использовать отсрочку и сдать в жесткий дедлайн без штрафа.\n",
    "\n",
    "Задание выполняется самостоятельно. «Похожие» решения считаются плагиатом и все задействованные студенты (в том числе те, у кого списали) не могут получить за него больше 0 баллов. Если вы нашли решение какого-то из заданий (или его часть) в открытом источнике, необходимо указать ссылку на этот источник в отдельном блоке в конце вашей работы (скорее всего вы будете не единственным, кто это нашел, поэтому чтобы исключить подозрение в плагиате, необходима ссылка на источник).\n",
    "\n",
    "Неэффективная реализация кода может негативно отразиться на оценке. Также оценка может быть снижена за плохо читаемый код и плохо оформленные графики. Все ответы должны сопровождаться кодом или комментариями о том, как они были получены.\n",
    "\n",
    "Использование генеративных моделей допустимо на следующих условиях:\n",
    "- Количество кода, написанное генеративными моделями, не превышает 30%\n",
    "- Указана модель, использованная для генерации, а также промпт\n",
    "- В конце работы необходимо описать свой опыт использования генеративного ИИ для решения данного домашнего задания. Укажите как часто Вам приходилось исправлять код своими руками или просить модель что-то исправить. Было ли это быстрее, чем написать код самим? \n",
    "\n",
    "В случае невыполнения этих требований работа не оценивается и оценка за неё не превышает 0 баллов.\n",
    "\n",
    "### О задании\n",
    "\n",
    "В этом задании вам предстоит познакомиться со сверточными сетями и их обучением для классификации изображений с использованием библиотеки PyTorch.\n"
   ]
  },
  {
   "cell_type": "code",
   "execution_count": 17,
   "metadata": {
    "id": "SaACifdX2QOo",
    "pycharm": {
     "name": "#%%\n"
    }
   },
   "outputs": [],
   "source": [
    "import matplotlib.pyplot as plt\n",
    "import numpy as np\n",
    "import torch\n",
    "import torch.nn as nn\n",
    "import torch.nn.functional as F\n",
    "import torch.optim as optim\n",
    "import torchvision\n",
    "import torchvision.transforms as transforms\n",
    "from sklearn.model_selection import train_test_split\n",
    "from tqdm import tqdm"
   ]
  },
  {
   "cell_type": "markdown",
   "metadata": {
    "id": "TIXaUYM-0JFl",
    "pycharm": {
     "name": "#%% md\n"
    }
   },
   "source": [
    "## 0. Загрузка данных\n",
    "\n",
    "Работать мы будем с набором данных [CIFAR10](https://www.cs.toronto.edu/~kriz/cifar.html). CIFAR10 представляет собой набор изображений 32х32 пикселя, разделенных на 10 классов.\n",
    "\n",
    "![title](https://pytorch.org/tutorials/_images/cifar10.png)\n",
    "\n",
    "\n"
   ]
  },
  {
   "cell_type": "markdown",
   "metadata": {
    "id": "g-0EEjl_10vB",
    "pycharm": {
     "name": "#%% md\n"
    }
   },
   "source": [
    "Набор данных уже определен в <code>torchvision.datasets</code>, так что возьмем его оттуда. \n",
    "\n"
   ]
  },
  {
   "cell_type": "code",
   "execution_count": 3,
   "metadata": {
    "id": "Cbwe92dT3aPZ",
    "pycharm": {
     "name": "#%%\n"
    }
   },
   "outputs": [],
   "source": [
    "# Для тру нормализации\n",
    "mean = [0.4914, 0.4822, 0.4465]\n",
    "std = [0.2470, 0.2435, 0.2616]\n",
    "# Тут взяты значения как в одном из туториалов пайторча :)\n",
    "\n",
    "\n",
    "def get_cifar10_data(batch_size, transform_train):\n",
    "    torch.manual_seed(0)\n",
    "    np.random.seed(0)\n",
    "\n",
    "    transform_test = transforms.Compose(\n",
    "        [\n",
    "            transforms.ToTensor(),\n",
    "            # Переводим цвета пикселей в отрезок [-1, 1]\n",
    "            transforms.Normalize(mean, std),\n",
    "        ]\n",
    "    )\n",
    "\n",
    "    # Загружаем данные\n",
    "    trainvalset = torchvision.datasets.CIFAR10(\n",
    "        root=\"./data\", train=True, download=True, transform=transform_train\n",
    "    )\n",
    "    testset = torchvision.datasets.CIFAR10(\n",
    "        root=\"./data\", train=False, download=True, transform=transform_test\n",
    "    )\n",
    "\n",
    "    # В датасете определено разбиение только на train и test,\n",
    "    # так что валидацию дополнительно выделяем из обучающей выборки\n",
    "    train_idx, valid_idx = train_test_split(\n",
    "        np.arange(len(trainvalset)), test_size=0.3, shuffle=True, random_state=0\n",
    "    )\n",
    "    trainset = torch.utils.data.Subset(trainvalset, train_idx)\n",
    "    valset = torch.utils.data.Subset(trainvalset, valid_idx)\n",
    "\n",
    "    train_loader = torch.utils.data.DataLoader(\n",
    "        trainset, batch_size=batch_size, shuffle=True, num_workers=16\n",
    "    )\n",
    "    val_loader = torch.utils.data.DataLoader(\n",
    "        valset, batch_size=batch_size, shuffle=False, num_workers=16\n",
    "    )\n",
    "    test_loader = torch.utils.data.DataLoader(\n",
    "        testset, batch_size=batch_size, shuffle=False, num_workers=16\n",
    "    )\n",
    "\n",
    "    return train_loader, val_loader, test_loader"
   ]
  },
  {
   "cell_type": "code",
   "execution_count": 4,
   "metadata": {
    "colab": {
     "base_uri": "https://localhost:8080/",
     "height": 101,
     "referenced_widgets": [
      "aa9da821ba0c42b5b051355e50e691f0",
      "95c5696493db48738dbdc9940acec1d8",
      "fe515a1f743f49d0b251b43919d52a8e",
      "f4f339c969fd4e21bc683ecb2567897b",
      "17b2be81159e41f1a5c6bb966516572e",
      "22bb21a6c57a413fb7374efe31349e6e",
      "18b20091dbf64b129824a8fb3266e3c0",
      "9bad0d6a00c14229b0d776a2cfe15090",
      "0fee9f5b7bdb4129a71ef0cfe9d3b1fa",
      "cd991379661b4b4ab405bf66f75c6834",
      "7d238166caf64537ad9aa2040dcdc1ec"
     ]
    },
    "id": "2G2rLnN5y6Jj",
    "outputId": "542c91e6-44f6-4e26-f1e8-5df3b83fd044",
    "pycharm": {
     "name": "#%%\n"
    }
   },
   "outputs": [],
   "source": [
    "transform = transforms.Compose(\n",
    "    [transforms.ToTensor(), transforms.Normalize(mean, std)]\n",
    ")\n",
    "\n",
    "train_loader, val_loader, test_loader = get_cifar10_data(\n",
    "    batch_size=64, transform_train=transform\n",
    ")"
   ]
  },
  {
   "cell_type": "markdown",
   "metadata": {
    "id": "-82HWgXs77W1",
    "pycharm": {
     "name": "#%% md\n"
    }
   },
   "source": [
    "Посмотрим на изображения:"
   ]
  },
  {
   "cell_type": "code",
   "execution_count": 5,
   "metadata": {
    "colab": {
     "base_uri": "https://localhost:8080/",
     "height": 155
    },
    "id": "ACnwaC5iy6L2",
    "outputId": "fd2fc631-ea7b-45f2-9728-eb1c5f9e683c",
    "pycharm": {
     "name": "#%%\n"
    }
   },
   "outputs": [
    {
     "name": "stderr",
     "output_type": "stream",
     "text": [
      "Clipping input data to the valid range for imshow with RGB data ([0..1] for floats or [0..255] for integers). Got range [-0.49473685..1.5632443].\n"
     ]
    },
    {
     "data": {
      "image/png": "[encoded data removed]",
      "text/plain": [
       "<Figure size 640x480 with 1 Axes>"
      ]
     },
     "metadata": {},
     "output_type": "display_data"
    },
    {
     "name": "stdout",
     "output_type": "stream",
     "text": [
      "ship frog horse horse\n"
     ]
    }
   ],
   "source": [
    "def imshow(img):\n",
    "    img = img / 2 + 0.5\n",
    "    npimg = img.numpy()\n",
    "    plt.imshow(np.transpose(npimg, (1, 2, 0)))\n",
    "    plt.show()\n",
    "\n",
    "\n",
    "dataiter = iter(train_loader)\n",
    "images, labels = next(dataiter)\n",
    "\n",
    "imshow(torchvision.utils.make_grid(images[:4]))\n",
    "\n",
    "classes = (\n",
    "    \"plane\",\n",
    "    \"car\",\n",
    "    \"bird\",\n",
    "    \"cat\",\n",
    "    \"deer\",\n",
    "    \"dog\",\n",
    "    \"frog\",\n",
    "    \"horse\",\n",
    "    \"ship\",\n",
    "    \"truck\",\n",
    ")\n",
    "print(*[classes[labels[i]] for i in range(4)])"
   ]
  },
  {
   "cell_type": "markdown",
   "metadata": {
    "id": "KFDilng29YZ_",
    "pycharm": {
     "name": "#%% md\n"
    }
   },
   "source": [
    "## 1. Задание сверточной сети (3 балла)"
   ]
  },
  {
   "cell_type": "markdown",
   "metadata": {
    "id": "OX7Ul8YbYdQR",
    "pycharm": {
     "name": "#%% md\n"
    }
   },
   "source": [
    "Теперь нам нужно задать сверточную нейронную сеть, которую мы будем обучать классифицировать изображения.\n",
    "\n",
    "Используем сеть, основанную на одном блоке архитектуры, похожей на ResNet. Обратите внимание, это не ResNet 1 в 1.\n",
    "\n",
    "<img src=\"https://i.ibb.co/2hg962h/basic-block.png\" width=\"500\"/>\n",
    "\n",
    "__Указания:__\n",
    "\n",
    "- Все сверточные слои должны иметь 32 выходных канала, а также не должны изменять ширину и высоту изображения.\n",
    "- Выход блока сократите до размерности 32х4х4, применив average pooling.\n",
    "- Для получения итоговых логитов, распрямите выход пулинга в вектор из 512 элементов, а затем пропустите его через линейный слой."
   ]
  },
  {
   "cell_type": "markdown",
   "metadata": {
    "id": "sbyIylT9O9Dr",
    "pycharm": {
     "name": "#%% md\n"
    }
   },
   "source": [
    "**Задание 1.1 (3 балла).**\n",
    "\n",
    "Определите архитектуру сети соответственно схеме и указаниям выше.\n",
    "\n",
    "Ключевые слова: <code>Conv2d</code>, <code>BatchNorm2d</code>, <code>AvgPool2d</code>."
   ]
  },
  {
   "cell_type": "code",
   "execution_count": 6,
   "metadata": {
    "id": "s9ml1QGKy6N9",
    "pycharm": {
     "name": "#%%\n"
    }
   },
   "outputs": [],
   "source": [
    "n_classes = 10\n",
    "\n",
    "class BasicBlockNet(nn.Module):\n",
    "    def __init__(self):\n",
    "        super().__init__()\n",
    "\n",
    "        # <your code here>\n",
    "\n",
    "        self.conv_1=nn.Conv2d(in_channels=3, out_channels=32, kernel_size=3, padding=1)\n",
    "        self.conv_2=nn.Conv2d(in_channels=32, out_channels=32, kernel_size=3, padding=1)\n",
    "        self.conv_3=nn.Conv2d(in_channels=3, out_channels=32, kernel_size=1)\n",
    "        self.batch_norm_1=nn.BatchNorm2d(num_features=32)\n",
    "        self.batch_norm_2=nn.BatchNorm2d(num_features=32)\n",
    "        self.relu=nn.ReLU()\n",
    "        self.avg_pooling=nn.AvgPool2d(8)\n",
    "        self.flatten=nn.Flatten()\n",
    "        self.fc=nn.Linear(32*4*4, n_classes)\n",
    "\n",
    "\n",
    "        \n",
    "\n",
    "    def forward(self, x):\n",
    "\n",
    "        # <your code here>\n",
    "\n",
    "        out1=self.conv_1(x)\n",
    "        out1=self.batch_norm_1(out1)\n",
    "        out1=self.relu(out1)\n",
    "        out1=self.conv_2(out1)\n",
    "        out1=self.batch_norm_2(out1)\n",
    "\n",
    "        out2=self.conv_3(x)\n",
    "\n",
    "        out=out1+out2\n",
    "        out=self.relu(out)\n",
    "        out=self.avg_pooling(out)\n",
    "        out=self.flatten(out)\n",
    "        out=self.fc(out)\n",
    "        \n",
    "        return out"
   ]
  },
  {
   "cell_type": "code",
   "execution_count": 7,
   "metadata": {
    "id": "FI4BQg7Ky6Pw",
    "pycharm": {
     "name": "#%%\n"
    }
   },
   "outputs": [
    {
     "data": {
      "text/plain": [
       "BasicBlockNet(\n",
       "  (conv_1): Conv2d(3, 32, kernel_size=(3, 3), stride=(1, 1), padding=(1, 1))\n",
       "  (conv_2): Conv2d(32, 32, kernel_size=(3, 3), stride=(1, 1), padding=(1, 1))\n",
       "  (conv_3): Conv2d(3, 32, kernel_size=(1, 1), stride=(1, 1))\n",
       "  (batch_norm_1): BatchNorm2d(32, eps=1e-05, momentum=0.1, affine=True, track_running_stats=True)\n",
       "  (batch_norm_2): BatchNorm2d(32, eps=1e-05, momentum=0.1, affine=True, track_running_stats=True)\n",
       "  (relu): ReLU()\n",
       "  (avg_pooling): AvgPool2d(kernel_size=8, stride=8, padding=0)\n",
       "  (flatten): Flatten(start_dim=1, end_dim=-1)\n",
       "  (fc): Linear(in_features=512, out_features=10, bias=True)\n",
       ")"
      ]
     },
     "execution_count": 7,
     "metadata": {},
     "output_type": "execute_result"
    }
   ],
   "source": [
    "net = BasicBlockNet()\n",
    "net"
   ]
  },
  {
   "cell_type": "markdown",
   "metadata": {
    "id": "igPoGZEub8d3",
    "pycharm": {
     "name": "#%% md\n"
    }
   },
   "source": [
    "Проверим, что выход сети имеет корректную размерность:"
   ]
  },
  {
   "cell_type": "code",
   "execution_count": 8,
   "metadata": {
    "id": "cCIzFUpJ_Agw",
    "pycharm": {
     "name": "#%%\n"
    }
   },
   "outputs": [],
   "source": [
    "assert net(torch.zeros((10, 3, 32, 32))).shape == (10, 10)"
   ]
  },
  {
   "cell_type": "markdown",
   "metadata": {
    "id": "08osX622cDGz",
    "pycharm": {
     "name": "#%% md\n"
    }
   },
   "source": [
    "Чтобы проводить вычисления на GPU, в PyTorch необходимо руками перекладывать объекты, с которыми вы хотите проводить вычисления, на графический ускоритель. Это делается следующим образрм:"
   ]
  },
  {
   "cell_type": "code",
   "execution_count": 19,
   "metadata": {
    "id": "56hDOMCFcDZX",
    "pycharm": {
     "name": "#%%\n"
    }
   },
   "outputs": [
    {
     "name": "stdout",
     "output_type": "stream",
     "text": [
      "cpu\n"
     ]
    }
   ],
   "source": [
    "device = torch.device(\"cuda:0\" if torch.cuda.is_available() else \"cpu\")\n",
    "print(device)"
   ]
  },
  {
   "cell_type": "code",
   "execution_count": 16,
   "metadata": {
    "id": "ohnDWbp0qbtC",
    "pycharm": {
     "name": "#%%\n"
    }
   },
   "outputs": [],
   "source": [
    "net = net.to(device)"
   ]
  },
  {
   "cell_type": "markdown",
   "metadata": {
    "id": "H_bOlTVUp5QF",
    "pycharm": {
     "name": "#%% md\n"
    }
   },
   "source": [
    "Подключение GPU в google.colab:\n",
    "\n",
    "**Среда выполнения** -> **Сменить среду выполнения** -> **Аппаратный ускоритель** -> **GPU**"
   ]
  },
  {
   "cell_type": "markdown",
   "metadata": {
    "id": "AGi6XX_7_Bgg",
    "pycharm": {
     "name": "#%% md\n"
    }
   },
   "source": [
    "## 2. Обучение и тестирование модели (3 балла)"
   ]
  },
  {
   "cell_type": "markdown",
   "metadata": {
    "id": "0agj_MQoO9Ds",
    "pycharm": {
     "name": "#%% md\n"
    }
   },
   "source": [
    "**Задание 2.1 (2 балла).** Переходим к обучению модели. Заполните пропуски в функциях <code>test</code> и <code>train_epoch</code>. В качестве функции потерь будем использовать [кросс-энтропию](https://pytorch.org/docs/stable/generated/torch.nn.functional.cross_entropy.html), а в качестве метрики качества accuracy."
   ]
  },
  {
   "cell_type": "code",
   "execution_count": 31,
   "metadata": {
    "id": "g8gsPPRIevDS",
    "pycharm": {
     "name": "#%%\n"
    }
   },
   "outputs": [],
   "source": [
    "def test(model, criterion, loader):\n",
    "    loss_log = []\n",
    "    acc_log = []\n",
    "    model.eval()\n",
    "    with torch.no_grad():\n",
    "\n",
    "        for data, target in tqdm(loader):\n",
    "\n",
    "            # <your code here>\n",
    "\n",
    "            data, target = data.to(device), target.to(device)\n",
    "            y_pred=net(data)\n",
    "            loss=criterion(y_pred, target)\n",
    "            #loss_log=torch.cat( (loss_log, loss.cpu().unsqueeze(0) / target.cpu().size(0)) )\n",
    "            loss_log.append(loss.cpu().data / target.cpu().size(0))\n",
    "            pred_class=torch.argmax(y_pred.cpu(), dim=-1)\n",
    "            #acc_log=torch.cat( (acc_log, (pred_class==target.cpu()).sum().unsqueeze(0)))\n",
    "            acc_log.append( (pred_class==target.cpu()).sum() / target.cpu().size(0) )\n",
    "\n",
    "        return np.mean(loss_log), np.mean(acc_log)\n",
    "\n",
    "\n",
    "def train_epoch(model, criterion, optimizer, train_loader):\n",
    "    loss_log = []\n",
    "    acc_log = []\n",
    "    model.train()\n",
    "\n",
    "    for data, target in tqdm(train_loader):\n",
    "\n",
    "        # <your code here>\n",
    "        data, target = data.to(device), target.to(device)\n",
    "        y_pred=net(data)\n",
    "        loss=criterion(y_pred, target)\n",
    "        loss.backward()\n",
    "        optimizer.step()\n",
    "        optimizer.zero_grad()\n",
    "        #loss_log=torch.cat( (loss_log, loss.cpu().unsqueeze(0) / target.cpu().size(0)) )\n",
    "        loss_log.append(loss.cpu().data / target.cpu().size(0))\n",
    "        pred_class=torch.argmax(y_pred.cpu(), dim=-1)\n",
    "        #acc_log=torch.cat( (acc_log, (pred_class==target.cpu()).sum().unsqueeze(0)))\n",
    "        acc_log.append( (pred_class==target.cpu()).sum() / target.cpu().size(0) )\n",
    "\n",
    "    return loss_log, acc_log\n",
    "\n",
    "\n",
    "def train(model, criterion, optimizer, n_epochs, train_loader, val_loader, scheduler=None):\n",
    "    train_loss_log, train_acc_log, val_loss_log, val_acc_log = [], [], [], []\n",
    "\n",
    "    for epoch in range(n_epochs):\n",
    "        train_loss, train_acc = train_epoch(model, criterion, optimizer, train_loader)\n",
    "        val_loss, val_acc = test(model, criterion, val_loader)\n",
    "\n",
    "        train_loss_log.extend(train_loss)\n",
    "        train_acc_log.extend(train_acc)\n",
    "\n",
    "        val_loss_log.append(val_loss)\n",
    "        val_acc_log.append(val_acc)\n",
    "\n",
    "        print(f\"Epoch {epoch}\")\n",
    "        print(f\" train loss: {np.mean(train_loss)}, train acc: {np.mean(train_acc)}\")\n",
    "        print(f\" val loss: {val_loss}, val acc: {val_acc}\\n\")\n",
    "\n",
    "        if scheduler is not None:\n",
    "            scheduler.step()\n",
    "\n",
    "    return train_loss_log, train_acc_log, val_loss_log, val_acc_log"
   ]
  },
  {
   "cell_type": "markdown",
   "metadata": {
    "id": "iSOqk_CAO9Dt",
    "pycharm": {
     "name": "#%% md\n"
    }
   },
   "source": [
    "Запустим обучение модели. В качестве оптимизатора будем использовать стохастический градиентный спуск, который является де-факто стандартом в задачах компьютерного зрения (наравне с <code>Adam</code>).\n",
    "\n",
    "__Замечание:__ Для достижения наилучшего качества в нашем случае потребуется обучать модель несколько сотен эпох. Однако в целях экономии вашего времени и сил, во всех экспериментах мы ограничимся 20 эпохами."
   ]
  },
  {
   "cell_type": "code",
   "execution_count": 32,
   "metadata": {
    "id": "MKZBGhuAgMDu",
    "pycharm": {
     "name": "#%%\n"
    },
    "scrolled": true
   },
   "outputs": [
    {
     "name": "stderr",
     "output_type": "stream",
     "text": [
      "100%|██████████| 547/547 [00:46<00:00, 11.83it/s]\n",
      "100%|██████████| 235/235 [00:41<00:00,  5.70it/s]\n"
     ]
    },
    {
     "name": "stdout",
     "output_type": "stream",
     "text": [
      "Epoch 0\n",
      " train loss: 0.018852638080716133, train acc: 0.5742157101631165\n",
      " val loss: 0.01834169775247574, val acc: 0.5921542644500732\n",
      "\n"
     ]
    },
    {
     "name": "stderr",
     "output_type": "stream",
     "text": [
      "100%|██████████| 547/547 [00:46<00:00, 11.83it/s]\n",
      "100%|██████████| 235/235 [00:41<00:00,  5.70it/s]\n"
     ]
    },
    {
     "name": "stdout",
     "output_type": "stream",
     "text": [
      "Epoch 1\n",
      " train loss: 0.01658918522298336, train acc: 0.63127201795578\n",
      " val loss: 0.016794374212622643, val acc: 0.6267509460449219\n",
      "\n"
     ]
    },
    {
     "name": "stderr",
     "output_type": "stream",
     "text": [
      "100%|██████████| 547/547 [00:46<00:00, 11.79it/s]\n",
      "100%|██████████| 235/235 [00:41<00:00,  5.70it/s]\n"
     ]
    },
    {
     "name": "stdout",
     "output_type": "stream",
     "text": [
      "Epoch 2\n",
      " train loss: 0.015497563406825066, train acc: 0.6551563739776611\n",
      " val loss: 0.015952477231621742, val acc: 0.6494902968406677\n",
      "\n"
     ]
    },
    {
     "name": "stderr",
     "output_type": "stream",
     "text": [
      "100%|██████████| 547/547 [00:46<00:00, 11.79it/s]\n",
      "100%|██████████| 235/235 [00:41<00:00,  5.71it/s]\n"
     ]
    },
    {
     "name": "stdout",
     "output_type": "stream",
     "text": [
      "Epoch 3\n",
      " train loss: 0.014833610504865646, train acc: 0.6698836088180542\n",
      " val loss: 0.015168017707765102, val acc: 0.6642951965332031\n",
      "\n"
     ]
    },
    {
     "name": "stderr",
     "output_type": "stream",
     "text": [
      "100%|██████████| 547/547 [00:46<00:00, 11.83it/s]\n",
      "100%|██████████| 235/235 [00:41<00:00,  5.70it/s]\n"
     ]
    },
    {
     "name": "stdout",
     "output_type": "stream",
     "text": [
      "Epoch 4\n",
      " train loss: 0.014469524845480919, train acc: 0.675788402557373\n",
      " val loss: 0.014753849245607853, val acc: 0.6767730116844177\n",
      "\n"
     ]
    },
    {
     "name": "stderr",
     "output_type": "stream",
     "text": [
      "100%|██████████| 547/547 [00:46<00:00, 11.75it/s]\n",
      "100%|██████████| 235/235 [00:41<00:00,  5.71it/s]\n"
     ]
    },
    {
     "name": "stdout",
     "output_type": "stream",
     "text": [
      "Epoch 5\n",
      " train loss: 0.013970106840133667, train acc: 0.6902299523353577\n",
      " val loss: 0.01622650772333145, val acc: 0.651928186416626\n",
      "\n"
     ]
    },
    {
     "name": "stderr",
     "output_type": "stream",
     "text": [
      "100%|██████████| 547/547 [00:46<00:00, 11.76it/s]\n",
      "100%|██████████| 235/235 [00:41<00:00,  5.69it/s]\n"
     ]
    },
    {
     "name": "stdout",
     "output_type": "stream",
     "text": [
      "Epoch 6\n",
      " train loss: 0.013589678332209587, train acc: 0.6975262761116028\n",
      " val loss: 0.014606194570660591, val acc: 0.6817818880081177\n",
      "\n"
     ]
    },
    {
     "name": "stderr",
     "output_type": "stream",
     "text": [
      "100%|██████████| 547/547 [00:46<00:00, 11.77it/s]\n",
      "100%|██████████| 235/235 [00:41<00:00,  5.68it/s]\n"
     ]
    },
    {
     "name": "stdout",
     "output_type": "stream",
     "text": [
      "Epoch 7\n",
      " train loss: 0.013355704955756664, train acc: 0.702345609664917\n",
      " val loss: 0.015209836885333061, val acc: 0.6722739338874817\n",
      "\n"
     ]
    },
    {
     "name": "stderr",
     "output_type": "stream",
     "text": [
      "100%|██████████| 547/547 [00:46<00:00, 11.80it/s]\n",
      "100%|██████████| 235/235 [00:41<00:00,  5.71it/s]\n"
     ]
    },
    {
     "name": "stdout",
     "output_type": "stream",
     "text": [
      "Epoch 8\n",
      " train loss: 0.013135179877281189, train acc: 0.708360493183136\n",
      " val loss: 0.014579269103705883, val acc: 0.6810062527656555\n",
      "\n"
     ]
    },
    {
     "name": "stderr",
     "output_type": "stream",
     "text": [
      "100%|██████████| 547/547 [00:46<00:00, 11.79it/s]\n",
      "100%|██████████| 235/235 [00:41<00:00,  5.69it/s]\n"
     ]
    },
    {
     "name": "stdout",
     "output_type": "stream",
     "text": [
      "Epoch 9\n",
      " train loss: 0.01283173356205225, train acc: 0.715681254863739\n",
      " val loss: 0.01425131969153881, val acc: 0.6937057375907898\n",
      "\n"
     ]
    },
    {
     "name": "stderr",
     "output_type": "stream",
     "text": [
      "100%|██████████| 547/547 [00:46<00:00, 11.79it/s]\n",
      "100%|██████████| 235/235 [00:41<00:00,  5.69it/s]\n"
     ]
    },
    {
     "name": "stdout",
     "output_type": "stream",
     "text": [
      "Epoch 10\n",
      " train loss: 0.012705325148999691, train acc: 0.718056321144104\n",
      " val loss: 0.014128481037914753, val acc: 0.6890957355499268\n",
      "\n"
     ]
    },
    {
     "name": "stderr",
     "output_type": "stream",
     "text": [
      "100%|██████████| 547/547 [00:46<00:00, 11.80it/s]\n",
      "100%|██████████| 235/235 [00:41<00:00,  5.69it/s]\n"
     ]
    },
    {
     "name": "stdout",
     "output_type": "stream",
     "text": [
      "Epoch 11\n",
      " train loss: 0.012511287815868855, train acc: 0.7225858569145203\n",
      " val loss: 0.014287406578660011, val acc: 0.691356360912323\n",
      "\n"
     ]
    },
    {
     "name": "stderr",
     "output_type": "stream",
     "text": [
      "100%|██████████| 547/547 [00:46<00:00, 11.75it/s]\n",
      "100%|██████████| 235/235 [00:41<00:00,  5.71it/s]\n"
     ]
    },
    {
     "name": "stdout",
     "output_type": "stream",
     "text": [
      "Epoch 12\n",
      " train loss: 0.012353788129985332, train acc: 0.7247567772865295\n",
      " val loss: 0.01417055819183588, val acc: 0.693439781665802\n",
      "\n"
     ]
    },
    {
     "name": "stderr",
     "output_type": "stream",
     "text": [
      "100%|██████████| 547/547 [00:46<00:00, 11.77it/s]\n",
      "100%|██████████| 235/235 [00:41<00:00,  5.70it/s]\n"
     ]
    },
    {
     "name": "stdout",
     "output_type": "stream",
     "text": [
      "Epoch 13\n",
      " train loss: 0.012221720069646835, train acc: 0.7270827889442444\n",
      " val loss: 0.013729958795011044, val acc: 0.7042553424835205\n",
      "\n"
     ]
    },
    {
     "name": "stderr",
     "output_type": "stream",
     "text": [
      "100%|██████████| 547/547 [00:46<00:00, 11.80it/s]\n",
      "100%|██████████| 235/235 [00:41<00:00,  5.72it/s]\n"
     ]
    },
    {
     "name": "stdout",
     "output_type": "stream",
     "text": [
      "Epoch 14\n",
      " train loss: 0.0120571069419384, train acc: 0.7331507802009583\n",
      " val loss: 0.01344585232436657, val acc: 0.7061834931373596\n",
      "\n"
     ]
    },
    {
     "name": "stderr",
     "output_type": "stream",
     "text": [
      "100%|██████████| 547/547 [00:46<00:00, 11.77it/s]\n",
      "100%|██████████| 235/235 [00:41<00:00,  5.68it/s]\n"
     ]
    },
    {
     "name": "stdout",
     "output_type": "stream",
     "text": [
      "Epoch 15\n",
      " train loss: 0.011915532872080803, train acc: 0.7366601824760437\n",
      " val loss: 0.013379575684666634, val acc: 0.7126551866531372\n",
      "\n"
     ]
    },
    {
     "name": "stderr",
     "output_type": "stream",
     "text": [
      "100%|██████████| 547/547 [00:46<00:00, 11.81it/s]\n",
      "100%|██████████| 235/235 [00:41<00:00,  5.69it/s]\n"
     ]
    },
    {
     "name": "stdout",
     "output_type": "stream",
     "text": [
      "Epoch 16\n",
      " train loss: 0.01174843218177557, train acc: 0.7395861148834229\n",
      " val loss: 0.013730289414525032, val acc: 0.7063387036323547\n",
      "\n"
     ]
    },
    {
     "name": "stderr",
     "output_type": "stream",
     "text": [
      "100%|██████████| 547/547 [00:46<00:00, 11.81it/s]\n",
      "100%|██████████| 235/235 [00:41<00:00,  5.71it/s]\n"
     ]
    },
    {
     "name": "stdout",
     "output_type": "stream",
     "text": [
      "Epoch 17\n",
      " train loss: 0.011715608648955822, train acc: 0.7410796284675598\n",
      " val loss: 0.014684184454381466, val acc: 0.6885638236999512\n",
      "\n"
     ]
    },
    {
     "name": "stderr",
     "output_type": "stream",
     "text": [
      "100%|██████████| 547/547 [00:46<00:00, 11.79it/s]\n",
      "100%|██████████| 235/235 [00:41<00:00,  5.70it/s]\n"
     ]
    },
    {
     "name": "stdout",
     "output_type": "stream",
     "text": [
      "Epoch 18\n",
      " train loss: 0.01152455061674118, train acc: 0.7449317574501038\n",
      " val loss: 0.013529002666473389, val acc: 0.7024378776550293\n",
      "\n"
     ]
    },
    {
     "name": "stderr",
     "output_type": "stream",
     "text": [
      "100%|██████████| 547/547 [00:46<00:00, 11.82it/s]\n",
      "100%|██████████| 235/235 [00:41<00:00,  5.70it/s]"
     ]
    },
    {
     "name": "stdout",
     "output_type": "stream",
     "text": [
      "Epoch 19\n",
      " train loss: 0.011471210047602654, train acc: 0.7468292713165283\n",
      " val loss: 0.013466866686940193, val acc: 0.7137632966041565\n",
      "\n"
     ]
    },
    {
     "name": "stderr",
     "output_type": "stream",
     "text": [
      "\n"
     ]
    }
   ],
   "source": [
    "optimizer = optim.SGD(net.parameters(), lr=0.1, momentum=0.9)\n",
    "criterion=nn.CrossEntropyLoss()\n",
    "train_loss_log, train_acc_log, val_loss_log, val_acc_log = train(\n",
    "    net, criterion, optimizer, 20, train_loader, val_loader\n",
    ")"
   ]
  },
  {
   "cell_type": "markdown",
   "metadata": {
    "id": "gUb1jQW8O9Dt",
    "pycharm": {
     "name": "#%% md\n"
    }
   },
   "source": [
    "Посчитайте точность на тестовой выборке:"
   ]
  },
  {
   "cell_type": "code",
   "execution_count": 34,
   "metadata": {
    "id": "Jyuc55B9_Amc",
    "pycharm": {
     "name": "#%%\n"
    }
   },
   "outputs": [
    {
     "name": "stderr",
     "output_type": "stream",
     "text": [
      "100%|██████████| 157/157 [00:34<00:00,  4.56it/s]\n"
     ]
    },
    {
     "data": {
      "text/plain": [
       "0.70919585"
      ]
     },
     "execution_count": 34,
     "metadata": {},
     "output_type": "execute_result"
    }
   ],
   "source": [
    "# <your code here>\n",
    "test_loss, test_acc = test(net, criterion, test_loader)\n",
    "test_acc"
   ]
  },
  {
   "cell_type": "markdown",
   "metadata": {
    "id": "zM38Q9fwO9Dt",
    "pycharm": {
     "name": "#%% md\n"
    }
   },
   "source": [
    "Если вы все сделали правильно, у вас должна была получиться точность $\\ge 67\\%$."
   ]
  },
  {
   "cell_type": "markdown",
   "metadata": {
    "id": "DHFNSKcoO9Dt",
    "pycharm": {
     "name": "#%% md\n"
    }
   },
   "source": [
    "**Задание 2.2 (1 балл).** Постройте графики зависимости функции потерь и точности классификации от номера шага оптимизатора. На каждом графике расположите данные и для обучающей и для валидационной выборки, итого у вас должно получиться два графика. Обратите внимание, что на обучающей выборке эти данные считаются по каждому батчу, на валидационной же они считаются по всей выборке раз в эпоху."
   ]
  },
  {
   "cell_type": "code",
   "execution_count": 41,
   "metadata": {
    "id": "LzIP0tGLO9Dt",
    "pycharm": {
     "name": "#%%\n"
    }
   },
   "outputs": [
    {
     "data": {
      "image/png": "[encoded data removed]",
      "text/plain": [
       "<Figure size 640x480 with 1 Axes>"
      ]
     },
     "metadata": {},
     "output_type": "display_data"
    },
    {
     "data": {
      "image/png": "[encoded data removed]",
      "text/plain": [
       "<Figure size 640x480 with 1 Axes>"
      ]
     },
     "metadata": {},
     "output_type": "display_data"
    }
   ],
   "source": [
    "# <your code here>\n",
    "\n",
    "def plot_history(train_history, val_history, title=\"loss\"):\n",
    "    plt.figure()\n",
    "    plt.title(title)\n",
    "    plt.plot(train_history, label=\"train\", zorder=1)\n",
    "\n",
    "    points = np.array(val_history)\n",
    "    steps = list(\n",
    "        range(0, len(train_history) + 1, int(len(train_history) / len(val_history)))\n",
    "    )[1:]\n",
    "\n",
    "    plt.scatter(\n",
    "        steps, val_history, marker=\".\", s=180, c=\"orange\", label=\"val\", zorder=2\n",
    "    )\n",
    "    plt.xlabel(\"train steps\")\n",
    "\n",
    "    plt.legend(loc=\"best\")\n",
    "    plt.grid()\n",
    "\n",
    "    plt.show()\n",
    "\n",
    "plot_history(train_loss_log, val_loss_log, 'Loss')\n",
    "plot_history(train_acc_log, val_acc_log, 'Accuracy')"
   ]
  },
  {
   "cell_type": "markdown",
   "metadata": {
    "id": "_ttOJPj-O9Dt",
    "pycharm": {
     "name": "#%% md\n"
    }
   },
   "source": [
    "## 3. Расписание длины шага (2 балла)"
   ]
  },
  {
   "cell_type": "markdown",
   "metadata": {
    "id": "qiz3JstuO9Dt",
    "pycharm": {
     "name": "#%% md\n"
    }
   },
   "source": [
    "С курса \"Машинное обучение 1\" вы уже должны знать, что сходимость стохастического градиентного спуска мы можем теоретически гарантировать только если будем определенным образом со временем уменьшать длину шага. На практике при обучении нейронных сетей такая техника оказывается очень полезной, однако теоретически обоснованными способами уменьшения длины шага фантазия не ограничивается.\n",
    "\n",
    "Одним из простейших способов является кусочно постоянная функция: на нескольких фиксированных эпохах уменьшаем длину шага в константу раз."
   ]
  },
  {
   "cell_type": "code",
   "execution_count": 43,
   "metadata": {
    "id": "V2Z0OT3nO9Du",
    "pycharm": {
     "name": "#%%\n"
    }
   },
   "outputs": [
    {
     "name": "stderr",
     "output_type": "stream",
     "text": [
      "100%|██████████| 547/547 [00:49<00:00, 10.97it/s]\n",
      "100%|██████████| 235/235 [00:41<00:00,  5.66it/s]\n"
     ]
    },
    {
     "name": "stdout",
     "output_type": "stream",
     "text": [
      "Epoch 0\n",
      " train loss: 0.02326289191842079, train acc: 0.47225120663642883\n",
      " val loss: 0.020397795364260674, val acc: 0.5411347150802612\n",
      "\n"
     ]
    },
    {
     "name": "stderr",
     "output_type": "stream",
     "text": [
      "100%|██████████| 547/547 [00:46<00:00, 11.76it/s]\n",
      "100%|██████████| 235/235 [00:42<00:00,  5.59it/s]\n"
     ]
    },
    {
     "name": "stdout",
     "output_type": "stream",
     "text": [
      "Epoch 1\n",
      " train loss: 0.018488692119717598, train acc: 0.5845398306846619\n",
      " val loss: 0.017871828749775887, val acc: 0.6013962626457214\n",
      "\n"
     ]
    },
    {
     "name": "stderr",
     "output_type": "stream",
     "text": [
      "100%|██████████| 547/547 [00:47<00:00, 11.40it/s]\n",
      "100%|██████████| 235/235 [00:42<00:00,  5.51it/s]\n"
     ]
    },
    {
     "name": "stdout",
     "output_type": "stream",
     "text": [
      "Epoch 2\n",
      " train loss: 0.016511330381035805, train acc: 0.6334225535392761\n",
      " val loss: 0.015782831236720085, val acc: 0.6522606611251831\n",
      "\n"
     ]
    },
    {
     "name": "stderr",
     "output_type": "stream",
     "text": [
      "100%|██████████| 547/547 [00:47<00:00, 11.46it/s]\n",
      "100%|██████████| 235/235 [00:41<00:00,  5.61it/s]\n"
     ]
    },
    {
     "name": "stdout",
     "output_type": "stream",
     "text": [
      "Epoch 3\n",
      " train loss: 0.01554150227457285, train acc: 0.6534302234649658\n",
      " val loss: 0.016491374000906944, val acc: 0.6366134285926819\n",
      "\n"
     ]
    },
    {
     "name": "stderr",
     "output_type": "stream",
     "text": [
      "100%|██████████| 547/547 [00:47<00:00, 11.54it/s]\n",
      "100%|██████████| 235/235 [00:41<00:00,  5.62it/s]\n"
     ]
    },
    {
     "name": "stdout",
     "output_type": "stream",
     "text": [
      "Epoch 4\n",
      " train loss: 0.015107802115380764, train acc: 0.6612570285797119\n",
      " val loss: 0.01522394921630621, val acc: 0.6652260422706604\n",
      "\n"
     ]
    },
    {
     "name": "stderr",
     "output_type": "stream",
     "text": [
      "100%|██████████| 547/547 [00:47<00:00, 11.55it/s]\n",
      "100%|██████████| 235/235 [00:41<00:00,  5.71it/s]\n"
     ]
    },
    {
     "name": "stdout",
     "output_type": "stream",
     "text": [
      "Epoch 5\n",
      " train loss: 0.01456573884934187, train acc: 0.6747110486030579\n",
      " val loss: 0.015101129189133644, val acc: 0.6669325828552246\n",
      "\n"
     ]
    },
    {
     "name": "stderr",
     "output_type": "stream",
     "text": [
      "100%|██████████| 547/547 [00:46<00:00, 11.80it/s]\n",
      "100%|██████████| 235/235 [00:41<00:00,  5.72it/s]\n"
     ]
    },
    {
     "name": "stdout",
     "output_type": "stream",
     "text": [
      "Epoch 6\n",
      " train loss: 0.014213831163942814, train acc: 0.6843252182006836\n",
      " val loss: 0.015286325477063656, val acc: 0.6679078340530396\n",
      "\n"
     ]
    },
    {
     "name": "stderr",
     "output_type": "stream",
     "text": [
      "100%|██████████| 547/547 [00:46<00:00, 11.82it/s]\n",
      "100%|██████████| 235/235 [00:40<00:00,  5.74it/s]\n"
     ]
    },
    {
     "name": "stdout",
     "output_type": "stream",
     "text": [
      "Epoch 7\n",
      " train loss: 0.013859688304364681, train acc: 0.6911358833312988\n",
      " val loss: 0.014602139592170715, val acc: 0.6824246048927307\n",
      "\n"
     ]
    },
    {
     "name": "stderr",
     "output_type": "stream",
     "text": [
      "100%|██████████| 547/547 [00:46<00:00, 11.78it/s]\n",
      "100%|██████████| 235/235 [00:41<00:00,  5.72it/s]\n"
     ]
    },
    {
     "name": "stdout",
     "output_type": "stream",
     "text": [
      "Epoch 8\n",
      " train loss: 0.01368173211812973, train acc: 0.6957307457923889\n",
      " val loss: 0.014679324813187122, val acc: 0.6772163510322571\n",
      "\n"
     ]
    },
    {
     "name": "stderr",
     "output_type": "stream",
     "text": [
      "100%|██████████| 547/547 [00:46<00:00, 11.79it/s]\n",
      "100%|██████████| 235/235 [00:41<00:00,  5.61it/s]\n"
     ]
    },
    {
     "name": "stdout",
     "output_type": "stream",
     "text": [
      "Epoch 9\n",
      " train loss: 0.013343445025384426, train acc: 0.7021823525428772\n",
      " val loss: 0.01437761913985014, val acc: 0.6835549473762512\n",
      "\n"
     ]
    },
    {
     "name": "stderr",
     "output_type": "stream",
     "text": [
      "100%|██████████| 547/547 [00:46<00:00, 11.76it/s]\n",
      "100%|██████████| 235/235 [00:41<00:00,  5.69it/s]\n"
     ]
    },
    {
     "name": "stdout",
     "output_type": "stream",
     "text": [
      "Epoch 10\n",
      " train loss: 0.011746101081371307, train acc: 0.7387250065803528\n",
      " val loss: 0.01310774590820074, val acc: 0.7147606611251831\n",
      "\n"
     ]
    },
    {
     "name": "stderr",
     "output_type": "stream",
     "text": [
      "100%|██████████| 547/547 [00:46<00:00, 11.82it/s]\n",
      "100%|██████████| 235/235 [00:41<00:00,  5.68it/s]\n"
     ]
    },
    {
     "name": "stdout",
     "output_type": "stream",
     "text": [
      "Epoch 11\n",
      " train loss: 0.011468918062746525, train acc: 0.7478739023208618\n",
      " val loss: 0.013086594641208649, val acc: 0.716777503490448\n",
      "\n"
     ]
    },
    {
     "name": "stderr",
     "output_type": "stream",
     "text": [
      "100%|██████████| 547/547 [00:46<00:00, 11.83it/s]\n",
      "100%|██████████| 235/235 [00:41<00:00,  5.71it/s]\n"
     ]
    },
    {
     "name": "stdout",
     "output_type": "stream",
     "text": [
      "Epoch 12\n",
      " train loss: 0.011387673206627369, train acc: 0.7475597262382507\n",
      " val loss: 0.013022743165493011, val acc: 0.7182623744010925\n",
      "\n"
     ]
    },
    {
     "name": "stderr",
     "output_type": "stream",
     "text": [
      "100%|██████████| 547/547 [00:46<00:00, 11.78it/s]\n",
      "100%|██████████| 235/235 [00:41<00:00,  5.72it/s]\n"
     ]
    },
    {
     "name": "stdout",
     "output_type": "stream",
     "text": [
      "Epoch 13\n",
      " train loss: 0.011297631077468395, train acc: 0.749640941619873\n",
      " val loss: 0.013015391305088997, val acc: 0.7179743051528931\n",
      "\n"
     ]
    },
    {
     "name": "stderr",
     "output_type": "stream",
     "text": [
      "100%|██████████| 547/547 [00:46<00:00, 11.85it/s]\n",
      "100%|██████████| 235/235 [00:41<00:00,  5.61it/s]\n"
     ]
    },
    {
     "name": "stdout",
     "output_type": "stream",
     "text": [
      "Epoch 14\n",
      " train loss: 0.011252302676439285, train acc: 0.7508854866027832\n",
      " val loss: 0.013024450279772282, val acc: 0.7192819118499756\n",
      "\n"
     ]
    },
    {
     "name": "stderr",
     "output_type": "stream",
     "text": [
      "100%|██████████| 547/547 [00:47<00:00, 11.55it/s]\n",
      "100%|██████████| 235/235 [00:42<00:00,  5.49it/s]\n"
     ]
    },
    {
     "name": "stdout",
     "output_type": "stream",
     "text": [
      "Epoch 15\n",
      " train loss: 0.010999467223882675, train acc: 0.7587938904762268\n",
      " val loss: 0.012858414091169834, val acc: 0.7232047915458679\n",
      "\n"
     ]
    },
    {
     "name": "stderr",
     "output_type": "stream",
     "text": [
      "100%|██████████| 547/547 [00:47<00:00, 11.52it/s]\n",
      "100%|██████████| 235/235 [00:42<00:00,  5.48it/s]\n"
     ]
    },
    {
     "name": "stdout",
     "output_type": "stream",
     "text": [
      "Epoch 16\n",
      " train loss: 0.010964324697852135, train acc: 0.7583491206169128\n",
      " val loss: 0.012863688170909882, val acc: 0.7224956154823303\n",
      "\n"
     ]
    },
    {
     "name": "stderr",
     "output_type": "stream",
     "text": [
      "100%|██████████| 547/547 [00:47<00:00, 11.60it/s]\n",
      "100%|██████████| 235/235 [00:41<00:00,  5.67it/s]\n"
     ]
    },
    {
     "name": "stdout",
     "output_type": "stream",
     "text": [
      "Epoch 17\n",
      " train loss: 0.010962779633700848, train acc: 0.7587082386016846\n",
      " val loss: 0.012845746241509914, val acc: 0.722894549369812\n",
      "\n"
     ]
    },
    {
     "name": "stderr",
     "output_type": "stream",
     "text": [
      "100%|██████████| 547/547 [00:46<00:00, 11.79it/s]\n",
      "100%|██████████| 235/235 [00:41<00:00,  5.70it/s]\n"
     ]
    },
    {
     "name": "stdout",
     "output_type": "stream",
     "text": [
      "Epoch 18\n",
      " train loss: 0.010948852635920048, train acc: 0.7587653398513794\n",
      " val loss: 0.01284103374928236, val acc: 0.7226285934448242\n",
      "\n"
     ]
    },
    {
     "name": "stderr",
     "output_type": "stream",
     "text": [
      "100%|██████████| 547/547 [00:46<00:00, 11.83it/s]\n",
      "100%|██████████| 235/235 [00:41<00:00,  5.69it/s]"
     ]
    },
    {
     "name": "stdout",
     "output_type": "stream",
     "text": [
      "Epoch 19\n",
      " train loss: 0.010958731174468994, train acc: 0.7590183615684509\n",
      " val loss: 0.012854209169745445, val acc: 0.7238031625747681\n",
      "\n"
     ]
    },
    {
     "name": "stderr",
     "output_type": "stream",
     "text": [
      "\n"
     ]
    }
   ],
   "source": [
    "net = BasicBlockNet().to(device)\n",
    "optimizer = optim.SGD(net.parameters(), lr=0.1, momentum=0.9)\n",
    "scheduler = optim.lr_scheduler.MultiStepLR(optimizer, milestones=[10, 15], gamma=0.1)\n",
    "tr_loss_log, tr_acc_log, val_loss_log, val_acc_log = train(\n",
    "    net, criterion, optimizer, 20, train_loader, val_loader, scheduler\n",
    ")"
   ]
  },
  {
   "cell_type": "markdown",
   "metadata": {
    "id": "5Xc76KvzO9Du",
    "pycharm": {
     "name": "#%% md\n"
    }
   },
   "source": [
    "Посчитайте точность на тестовой выборке:"
   ]
  },
  {
   "cell_type": "code",
   "execution_count": 44,
   "metadata": {
    "id": "1AjiYhKqO9Du",
    "pycharm": {
     "name": "#%%\n"
    }
   },
   "outputs": [
    {
     "name": "stderr",
     "output_type": "stream",
     "text": [
      "100%|██████████| 157/157 [00:34<00:00,  4.52it/s]\n"
     ]
    },
    {
     "data": {
      "text/plain": [
       "0.71496814"
      ]
     },
     "execution_count": 44,
     "metadata": {},
     "output_type": "execute_result"
    }
   ],
   "source": [
    "# <your code here>\n",
    "test_loss2, test_acc2 = test(net, criterion, test_loader)\n",
    "test_acc2"
   ]
  },
  {
   "cell_type": "markdown",
   "metadata": {
    "id": "yE0dgLYrO9Du",
    "pycharm": {
     "name": "#%% md\n"
    }
   },
   "source": [
    "**Задание 3.0 (0.5 баллов).** Здесь может возникнуть вопрос: а что будет, если мы не будем уменьшать длину шага в процессе обучения, а сразу возьмем констатную, равную значению нашей кусочно-постоянной функции на последних эпохах, то есть $0.001$ в нашем случае. Запустите обучение и проверьте, что в таком случае мы получим худшее качество на тестовой выборке."
   ]
  },
  {
   "cell_type": "code",
   "execution_count": 49,
   "metadata": {
    "id": "qZ2iB-LBO9Du",
    "pycharm": {
     "name": "#%%\n"
    }
   },
   "outputs": [
    {
     "name": "stderr",
     "output_type": "stream",
     "text": [
      "100%|██████████| 547/547 [00:45<00:00, 11.92it/s]\n",
      "100%|██████████| 235/235 [00:41<00:00,  5.69it/s]\n"
     ]
    },
    {
     "name": "stdout",
     "output_type": "stream",
     "text": [
      "Epoch 0\n",
      " train loss: 0.027819683775305748, train acc: 0.3720618784427643\n",
      " val loss: 0.02490300126373768, val acc: 0.44434839487075806\n",
      "\n"
     ]
    },
    {
     "name": "stderr",
     "output_type": "stream",
     "text": [
      "100%|██████████| 547/547 [00:46<00:00, 11.67it/s]\n",
      "100%|██████████| 235/235 [00:42<00:00,  5.55it/s]\n"
     ]
    },
    {
     "name": "stdout",
     "output_type": "stream",
     "text": [
      "Epoch 1\n",
      " train loss: 0.02348085306584835, train acc: 0.4692233204841614\n",
      " val loss: 0.022448526695370674, val acc: 0.5005097985267639\n",
      "\n"
     ]
    },
    {
     "name": "stderr",
     "output_type": "stream",
     "text": [
      "100%|██████████| 547/547 [00:47<00:00, 11.43it/s]\n",
      "100%|██████████| 235/235 [00:42<00:00,  5.52it/s]\n"
     ]
    },
    {
     "name": "stdout",
     "output_type": "stream",
     "text": [
      "Epoch 2\n",
      " train loss: 0.021706731989979744, train acc: 0.5113239884376526\n",
      " val loss: 0.021391451358795166, val acc: 0.5221852660179138\n",
      "\n"
     ]
    },
    {
     "name": "stderr",
     "output_type": "stream",
     "text": [
      "100%|██████████| 547/547 [00:48<00:00, 11.37it/s]\n",
      "100%|██████████| 235/235 [00:40<00:00,  5.74it/s]\n"
     ]
    },
    {
     "name": "stdout",
     "output_type": "stream",
     "text": [
      "Epoch 3\n",
      " train loss: 0.020631620660424232, train acc: 0.5379382371902466\n",
      " val loss: 0.019999941810965538, val acc: 0.554033637046814\n",
      "\n"
     ]
    },
    {
     "name": "stderr",
     "output_type": "stream",
     "text": [
      "100%|██████████| 547/547 [00:46<00:00, 11.76it/s]\n",
      "100%|██████████| 235/235 [00:41<00:00,  5.67it/s]\n"
     ]
    },
    {
     "name": "stdout",
     "output_type": "stream",
     "text": [
      "Epoch 4\n",
      " train loss: 0.019790921360254288, train acc: 0.5546650886535645\n",
      " val loss: 0.019254054874181747, val acc: 0.5751994848251343\n",
      "\n"
     ]
    },
    {
     "name": "stderr",
     "output_type": "stream",
     "text": [
      "100%|██████████| 547/547 [00:46<00:00, 11.76it/s]\n",
      "100%|██████████| 235/235 [00:41<00:00,  5.70it/s]\n"
     ]
    },
    {
     "name": "stdout",
     "output_type": "stream",
     "text": [
      "Epoch 5\n",
      " train loss: 0.019046539440751076, train acc: 0.574558436870575\n",
      " val loss: 0.019111718982458115, val acc: 0.5673980116844177\n",
      "\n"
     ]
    },
    {
     "name": "stderr",
     "output_type": "stream",
     "text": [
      "100%|██████████| 547/547 [00:46<00:00, 11.75it/s]\n",
      "100%|██████████| 235/235 [00:41<00:00,  5.69it/s]\n"
     ]
    },
    {
     "name": "stdout",
     "output_type": "stream",
     "text": [
      "Epoch 6\n",
      " train loss: 0.01838693581521511, train acc: 0.5880778431892395\n",
      " val loss: 0.01809464581310749, val acc: 0.5981605052947998\n",
      "\n"
     ]
    },
    {
     "name": "stderr",
     "output_type": "stream",
     "text": [
      "100%|██████████| 547/547 [00:46<00:00, 11.78it/s]\n",
      "100%|██████████| 235/235 [00:41<00:00,  5.70it/s]\n"
     ]
    },
    {
     "name": "stdout",
     "output_type": "stream",
     "text": [
      "Epoch 7\n",
      " train loss: 0.017793802544474602, train acc: 0.6030376553535461\n",
      " val loss: 0.017595509067177773, val acc: 0.6142064929008484\n",
      "\n"
     ]
    },
    {
     "name": "stderr",
     "output_type": "stream",
     "text": [
      "100%|██████████| 547/547 [00:46<00:00, 11.73it/s]\n",
      "100%|██████████| 235/235 [00:41<00:00,  5.70it/s]\n"
     ]
    },
    {
     "name": "stdout",
     "output_type": "stream",
     "text": [
      "Epoch 8\n",
      " train loss: 0.0172959603369236, train acc: 0.6164999604225159\n",
      " val loss: 0.017373578622937202, val acc: 0.6142951846122742\n",
      "\n"
     ]
    },
    {
     "name": "stderr",
     "output_type": "stream",
     "text": [
      "100%|██████████| 547/547 [00:46<00:00, 11.79it/s]\n",
      "100%|██████████| 235/235 [00:41<00:00,  5.71it/s]\n"
     ]
    },
    {
     "name": "stdout",
     "output_type": "stream",
     "text": [
      "Epoch 9\n",
      " train loss: 0.0167757049202919, train acc: 0.6257222890853882\n",
      " val loss: 0.016834164038300514, val acc: 0.6238918900489807\n",
      "\n"
     ]
    },
    {
     "name": "stderr",
     "output_type": "stream",
     "text": [
      "100%|██████████| 547/547 [00:46<00:00, 11.81it/s]\n",
      "100%|██████████| 235/235 [00:41<00:00,  5.72it/s]\n"
     ]
    },
    {
     "name": "stdout",
     "output_type": "stream",
     "text": [
      "Epoch 10\n",
      " train loss: 0.016361624002456665, train acc: 0.6341570615768433\n",
      " val loss: 0.016595305874943733, val acc: 0.6328679323196411\n",
      "\n"
     ]
    },
    {
     "name": "stderr",
     "output_type": "stream",
     "text": [
      "100%|██████████| 547/547 [00:46<00:00, 11.79it/s]\n",
      "100%|██████████| 235/235 [00:41<00:00,  5.73it/s]\n"
     ]
    },
    {
     "name": "stdout",
     "output_type": "stream",
     "text": [
      "Epoch 11\n",
      " train loss: 0.016064943745732307, train acc: 0.6414125561714172\n",
      " val loss: 0.01616806536912918, val acc: 0.6417331099510193\n",
      "\n"
     ]
    },
    {
     "name": "stderr",
     "output_type": "stream",
     "text": [
      "100%|██████████| 547/547 [00:46<00:00, 11.71it/s]\n",
      "100%|██████████| 235/235 [00:41<00:00,  5.71it/s]\n"
     ]
    },
    {
     "name": "stdout",
     "output_type": "stream",
     "text": [
      "Epoch 12\n",
      " train loss: 0.01575274020433426, train acc: 0.6493658423423767\n",
      " val loss: 0.0160952340811491, val acc: 0.6447251439094543\n",
      "\n"
     ]
    },
    {
     "name": "stderr",
     "output_type": "stream",
     "text": [
      "100%|██████████| 547/547 [00:46<00:00, 11.79it/s]\n",
      "100%|██████████| 235/235 [00:41<00:00,  5.69it/s]\n"
     ]
    },
    {
     "name": "stdout",
     "output_type": "stream",
     "text": [
      "Epoch 13\n",
      " train loss: 0.015481401234865189, train acc: 0.6539974212646484\n",
      " val loss: 0.01564657688140869, val acc: 0.6543217897415161\n",
      "\n"
     ]
    },
    {
     "name": "stderr",
     "output_type": "stream",
     "text": [
      "100%|██████████| 547/547 [00:46<00:00, 11.77it/s]\n",
      "100%|██████████| 235/235 [00:41<00:00,  5.71it/s]\n"
     ]
    },
    {
     "name": "stdout",
     "output_type": "stream",
     "text": [
      "Epoch 14\n",
      " train loss: 0.015216086059808731, train acc: 0.6633095741271973\n",
      " val loss: 0.015720225870609283, val acc: 0.6523714065551758\n",
      "\n"
     ]
    },
    {
     "name": "stderr",
     "output_type": "stream",
     "text": [
      "100%|██████████| 547/547 [00:47<00:00, 11.46it/s]\n",
      "100%|██████████| 235/235 [00:41<00:00,  5.67it/s]\n"
     ]
    },
    {
     "name": "stdout",
     "output_type": "stream",
     "text": [
      "Epoch 15\n",
      " train loss: 0.015038732439279556, train acc: 0.6653662919998169\n",
      " val loss: 0.015799956396222115, val acc: 0.6462988257408142\n",
      "\n"
     ]
    },
    {
     "name": "stderr",
     "output_type": "stream",
     "text": [
      "100%|██████████| 547/547 [00:46<00:00, 11.76it/s]\n",
      "100%|██████████| 235/235 [00:41<00:00,  5.71it/s]\n"
     ]
    },
    {
     "name": "stdout",
     "output_type": "stream",
     "text": [
      "Epoch 16\n",
      " train loss: 0.01491411030292511, train acc: 0.6691327691078186\n",
      " val loss: 0.015253639779984951, val acc: 0.6633200645446777\n",
      "\n"
     ]
    },
    {
     "name": "stderr",
     "output_type": "stream",
     "text": [
      "100%|██████████| 547/547 [00:46<00:00, 11.79it/s]\n",
      "100%|██████████| 235/235 [00:41<00:00,  5.71it/s]\n"
     ]
    },
    {
     "name": "stdout",
     "output_type": "stream",
     "text": [
      "Epoch 17\n",
      " train loss: 0.014699665829539299, train acc: 0.6748865842819214\n",
      " val loss: 0.015256072394549847, val acc: 0.6631206274032593\n",
      "\n"
     ]
    },
    {
     "name": "stderr",
     "output_type": "stream",
     "text": [
      "100%|██████████| 547/547 [00:46<00:00, 11.78it/s]\n",
      "100%|██████████| 235/235 [00:41<00:00,  5.68it/s]\n"
     ]
    },
    {
     "name": "stdout",
     "output_type": "stream",
     "text": [
      "Epoch 18\n",
      " train loss: 0.014558199793100357, train acc: 0.6788039803504944\n",
      " val loss: 0.014902155846357346, val acc: 0.6716090440750122\n",
      "\n"
     ]
    },
    {
     "name": "stderr",
     "output_type": "stream",
     "text": [
      "100%|██████████| 547/547 [00:46<00:00, 11.77it/s]\n",
      "100%|██████████| 235/235 [00:41<00:00,  5.70it/s]"
     ]
    },
    {
     "name": "stdout",
     "output_type": "stream",
     "text": [
      "Epoch 19\n",
      " train loss: 0.014505884610116482, train acc: 0.6768085956573486\n",
      " val loss: 0.014881439507007599, val acc: 0.6738919019699097\n",
      "\n"
     ]
    },
    {
     "name": "stderr",
     "output_type": "stream",
     "text": [
      "\n"
     ]
    }
   ],
   "source": [
    "# <your code here>\n",
    "net = BasicBlockNet().to(device)\n",
    "optimizer = optim.SGD(net.parameters(), lr=0.001, momentum=0.9)\n",
    "tr_loss_log, tr_acc_log, val_loss_log, val_acc_log = train(\n",
    "    net, criterion, optimizer, 20, train_loader, val_loader\n",
    ")"
   ]
  },
  {
   "cell_type": "code",
   "execution_count": null,
   "metadata": {},
   "outputs": [
    {
     "name": "stderr",
     "output_type": "stream",
     "text": [
      "100%|██████████| 157/157 [00:34<00:00,  4.58it/s]\n"
     ]
    },
    {
     "data": {
      "text/plain": [
       "0.67028266"
      ]
     },
     "execution_count": 50,
     "metadata": {},
     "output_type": "execute_result"
    }
   ],
   "source": [
    "#качество снизилось : 0,67 против 0,715 при поэтапном снижении learning rate\n",
    "test_loss3, test_acc3 = test(net, criterion, test_loader)\n",
    "test_acc3"
   ]
  },
  {
   "cell_type": "markdown",
   "metadata": {
    "id": "xVotU378O9Du",
    "pycharm": {
     "name": "#%% md\n"
    }
   },
   "source": [
    "**Задание 3.1 (1.5 балла).** Изучите, какие еще способы уменьшения длины шага представлены в <code>torch.optim.lr_scheduler</code>. Выберите несколько из них, объясните, как они устроены, и обучите модель с ними. Удалось ли добиться улучшения качества на тестовой выборке?"
   ]
  },
  {
   "cell_type": "code",
   "execution_count": null,
   "metadata": {
    "id": "nkGlzocOO9Du",
    "pycharm": {
     "name": "#%%\n"
    }
   },
   "outputs": [
    {
     "name": "stderr",
     "output_type": "stream",
     "text": [
      "100%|██████████| 547/547 [00:46<00:00, 11.67it/s]\n",
      "100%|██████████| 235/235 [00:40<00:00,  5.74it/s]\n"
     ]
    },
    {
     "name": "stdout",
     "output_type": "stream",
     "text": [
      "Epoch 0\n",
      " train loss: 0.023309824988245964, train acc: 0.4642857313156128\n",
      " val loss: 0.02031789720058441, val acc: 0.5419326424598694\n",
      "\n"
     ]
    },
    {
     "name": "stderr",
     "output_type": "stream",
     "text": [
      "100%|██████████| 547/547 [00:48<00:00, 11.36it/s]\n",
      "100%|██████████| 235/235 [00:41<00:00,  5.72it/s]\n"
     ]
    },
    {
     "name": "stdout",
     "output_type": "stream",
     "text": [
      "Epoch 1\n",
      " train loss: 0.01923222467303276, train acc: 0.5615655183792114\n",
      " val loss: 0.018661189824342728, val acc: 0.582269549369812\n",
      "\n"
     ]
    },
    {
     "name": "stderr",
     "output_type": "stream",
     "text": [
      "100%|██████████| 547/547 [00:46<00:00, 11.67it/s]\n",
      "100%|██████████| 235/235 [00:41<00:00,  5.60it/s]\n"
     ]
    },
    {
     "name": "stdout",
     "output_type": "stream",
     "text": [
      "Epoch 2\n",
      " train loss: 0.017334237694740295, train acc: 0.6090362668037415\n",
      " val loss: 0.016976891085505486, val acc: 0.6235372424125671\n",
      "\n"
     ]
    },
    {
     "name": "stderr",
     "output_type": "stream",
     "text": [
      "100%|██████████| 547/547 [00:47<00:00, 11.60it/s]\n",
      "100%|██████████| 235/235 [00:41<00:00,  5.66it/s]\n"
     ]
    },
    {
     "name": "stdout",
     "output_type": "stream",
     "text": [
      "Epoch 3\n",
      " train loss: 0.01613737642765045, train acc: 0.6339163184165955\n",
      " val loss: 0.016314731910824776, val acc: 0.6348404288291931\n",
      "\n"
     ]
    },
    {
     "name": "stderr",
     "output_type": "stream",
     "text": [
      "100%|██████████| 547/547 [00:46<00:00, 11.64it/s]\n",
      "100%|██████████| 235/235 [00:41<00:00,  5.70it/s]\n"
     ]
    },
    {
     "name": "stdout",
     "output_type": "stream",
     "text": [
      "Epoch 4\n",
      " train loss: 0.015348022803664207, train acc: 0.6567396521568298\n",
      " val loss: 0.01633472926914692, val acc: 0.6357269883155823\n",
      "\n"
     ]
    },
    {
     "name": "stderr",
     "output_type": "stream",
     "text": [
      "100%|██████████| 547/547 [00:47<00:00, 11.56it/s]\n",
      "100%|██████████| 235/235 [00:41<00:00,  5.68it/s]\n"
     ]
    },
    {
     "name": "stdout",
     "output_type": "stream",
     "text": [
      "Epoch 5\n",
      " train loss: 0.01472932007163763, train acc: 0.6733032464981079\n",
      " val loss: 0.014887990429997444, val acc: 0.6666223406791687\n",
      "\n"
     ]
    },
    {
     "name": "stderr",
     "output_type": "stream",
     "text": [
      "100%|██████████| 547/547 [00:47<00:00, 11.59it/s] \n",
      "100%|██████████| 235/235 [00:42<00:00,  5.55it/s]\n"
     ]
    },
    {
     "name": "stdout",
     "output_type": "stream",
     "text": [
      "Epoch 6\n",
      " train loss: 0.014430856332182884, train acc: 0.678514301776886\n",
      " val loss: 0.015209030359983444, val acc: 0.6578014492988586\n",
      "\n"
     ]
    },
    {
     "name": "stderr",
     "output_type": "stream",
     "text": [
      "100%|██████████| 547/547 [00:47<00:00, 11.51it/s]\n",
      "100%|██████████| 235/235 [00:40<00:00,  5.74it/s]\n"
     ]
    },
    {
     "name": "stdout",
     "output_type": "stream",
     "text": [
      "Epoch 7\n",
      " train loss: 0.01406087540090084, train acc: 0.6859044432640076\n",
      " val loss: 0.015222551301121712, val acc: 0.6746453642845154\n",
      "\n"
     ]
    },
    {
     "name": "stderr",
     "output_type": "stream",
     "text": [
      "100%|██████████| 547/547 [00:46<00:00, 11.78it/s]\n",
      "100%|██████████| 235/235 [00:41<00:00,  5.69it/s]\n"
     ]
    },
    {
     "name": "stdout",
     "output_type": "stream",
     "text": [
      "Epoch 8\n",
      " train loss: 0.013698475435376167, train acc: 0.6962775588035583\n",
      " val loss: 0.0140917943790555, val acc: 0.693439781665802\n",
      "\n"
     ]
    },
    {
     "name": "stderr",
     "output_type": "stream",
     "text": [
      "100%|██████████| 547/547 [00:46<00:00, 11.80it/s]\n",
      "100%|██████████| 235/235 [00:41<00:00,  5.72it/s]\n"
     ]
    },
    {
     "name": "stdout",
     "output_type": "stream",
     "text": [
      "Epoch 9\n",
      " train loss: 0.013424303382635117, train acc: 0.7022803425788879\n",
      " val loss: 0.014261477626860142, val acc: 0.6806073188781738\n",
      "\n"
     ]
    },
    {
     "name": "stderr",
     "output_type": "stream",
     "text": [
      "100%|██████████| 547/547 [00:46<00:00, 11.79it/s]\n",
      "100%|██████████| 235/235 [00:41<00:00,  5.70it/s]\n"
     ]
    },
    {
     "name": "stdout",
     "output_type": "stream",
     "text": [
      "Epoch 10\n",
      " train loss: 0.013177689164876938, train acc: 0.7102417349815369\n",
      " val loss: 0.01372960302978754, val acc: 0.6998448371887207\n",
      "\n"
     ]
    },
    {
     "name": "stderr",
     "output_type": "stream",
     "text": [
      "100%|██████████| 547/547 [00:47<00:00, 11.52it/s]\n",
      "100%|██████████| 235/235 [00:41<00:00,  5.60it/s]\n"
     ]
    },
    {
     "name": "stdout",
     "output_type": "stream",
     "text": [
      "Epoch 11\n",
      " train loss: 0.01298257615417242, train acc: 0.7115435004234314\n",
      " val loss: 0.013890201225876808, val acc: 0.6939272880554199\n",
      "\n"
     ]
    },
    {
     "name": "stderr",
     "output_type": "stream",
     "text": [
      "100%|██████████| 547/547 [00:47<00:00, 11.60it/s]\n",
      "100%|██████████| 235/235 [00:42<00:00,  5.58it/s]\n"
     ]
    },
    {
     "name": "stdout",
     "output_type": "stream",
     "text": [
      "Epoch 12\n",
      " train loss: 0.012796180322766304, train acc: 0.7168116569519043\n",
      " val loss: 0.013772580772638321, val acc: 0.6975398659706116\n",
      "\n"
     ]
    },
    {
     "name": "stderr",
     "output_type": "stream",
     "text": [
      "100%|██████████| 547/547 [00:46<00:00, 11.79it/s]\n",
      "100%|██████████| 235/235 [00:41<00:00,  5.70it/s]\n"
     ]
    },
    {
     "name": "stdout",
     "output_type": "stream",
     "text": [
      "Epoch 13\n",
      " train loss: 0.0126383937895298, train acc: 0.7207128405570984\n",
      " val loss: 0.01343780942261219, val acc: 0.7057402729988098\n",
      "\n"
     ]
    },
    {
     "name": "stderr",
     "output_type": "stream",
     "text": [
      "100%|██████████| 547/547 [00:46<00:00, 11.69it/s]\n",
      "100%|██████████| 235/235 [00:41<00:00,  5.68it/s]\n"
     ]
    },
    {
     "name": "stdout",
     "output_type": "stream",
     "text": [
      "Epoch 14\n",
      " train loss: 0.012383535504341125, train acc: 0.7239977717399597\n",
      " val loss: 0.013005957938730717, val acc: 0.7151373624801636\n",
      "\n"
     ]
    },
    {
     "name": "stderr",
     "output_type": "stream",
     "text": [
      "100%|██████████| 547/547 [00:47<00:00, 11.47it/s]\n",
      "100%|██████████| 235/235 [00:41<00:00,  5.60it/s]\n"
     ]
    },
    {
     "name": "stdout",
     "output_type": "stream",
     "text": [
      "Epoch 15\n",
      " train loss: 0.01225912757217884, train acc: 0.728274405002594\n",
      " val loss: 0.013441566377878189, val acc: 0.7039893865585327\n",
      "\n"
     ]
    },
    {
     "name": "stderr",
     "output_type": "stream",
     "text": [
      "100%|██████████| 547/547 [00:48<00:00, 11.38it/s]\n",
      "100%|██████████| 235/235 [00:42<00:00,  5.58it/s]\n"
     ]
    },
    {
     "name": "stdout",
     "output_type": "stream",
     "text": [
      "Epoch 16\n",
      " train loss: 0.012094583362340927, train acc: 0.7308411002159119\n",
      " val loss: 0.01325302105396986, val acc: 0.7100399136543274\n",
      "\n"
     ]
    },
    {
     "name": "stderr",
     "output_type": "stream",
     "text": [
      "100%|██████████| 547/547 [00:46<00:00, 11.66it/s]\n",
      "100%|██████████| 235/235 [00:40<00:00,  5.77it/s]\n"
     ]
    },
    {
     "name": "stdout",
     "output_type": "stream",
     "text": [
      "Epoch 17\n",
      " train loss: 0.011953908018767834, train acc: 0.7366193532943726\n",
      " val loss: 0.012917845509946346, val acc: 0.7194814085960388\n",
      "\n"
     ]
    },
    {
     "name": "stderr",
     "output_type": "stream",
     "text": [
      "100%|██████████| 547/547 [00:45<00:00, 11.90it/s]\n",
      "100%|██████████| 235/235 [00:40<00:00,  5.78it/s]\n"
     ]
    },
    {
     "name": "stdout",
     "output_type": "stream",
     "text": [
      "Epoch 18\n",
      " train loss: 0.01186802051961422, train acc: 0.7360929846763611\n",
      " val loss: 0.013105828315019608, val acc: 0.7132313847541809\n",
      "\n"
     ]
    },
    {
     "name": "stderr",
     "output_type": "stream",
     "text": [
      "100%|██████████| 547/547 [00:45<00:00, 11.95it/s]\n",
      "100%|██████████| 235/235 [00:40<00:00,  5.79it/s]\n"
     ]
    },
    {
     "name": "stdout",
     "output_type": "stream",
     "text": [
      "Epoch 19\n",
      " train loss: 0.011663350276648998, train acc: 0.7424914836883545\n",
      " val loss: 0.012927885167300701, val acc: 0.7200354933738708\n",
      "\n"
     ]
    },
    {
     "name": "stderr",
     "output_type": "stream",
     "text": [
      "100%|██████████| 157/157 [00:33<00:00,  4.62it/s]\n"
     ]
    },
    {
     "data": {
      "text/plain": [
       "0.71287817"
      ]
     },
     "execution_count": 47,
     "metadata": {},
     "output_type": "execute_result"
    }
   ],
   "source": [
    "# <your code here>\n",
    "net = BasicBlockNet().to(device)\n",
    "optimizer = optim.SGD(net.parameters(), lr=0.1, momentum=0.9, fused=True)\n",
    "scheduler = optim.lr_scheduler.CyclicLR(optimizer, base_lr=0.01, max_lr=0.1) # lr циклически изменяется между двумя границами с постоянной частотой\n",
    "tr_loss_log, tr_acc_log, val_loss_log, val_acc_log = train(\n",
    "    net, criterion, optimizer, 20, train_loader, val_loader, scheduler\n",
    ")\n",
    "\n",
    "test_loss4, test_acc4 = test(net, criterion, test_loader)\n",
    "test_acc4\n"
   ]
  },
  {
   "cell_type": "markdown",
   "metadata": {
    "id": "5a_zMNNVO9Du",
    "pycharm": {
     "name": "#%% md\n"
    }
   },
   "source": [
    "Your answers here:\n",
    "\n",
    "CyclicLR с диапазоном 0.1-0.01 показал качество, сопоставимое с MultiStepLR (milestones=[10, 15], gamma=0.1): 0,713 против 0,715.\n",
    "Худшее качество у оптимизатора с низким константным Learning rate."
   ]
  },
  {
   "cell_type": "markdown",
   "metadata": {
    "id": "7xFXgl_3_E--",
    "pycharm": {
     "name": "#%% md\n"
    }
   },
   "source": [
    "## 4. Аугментации данных (2 балла)"
   ]
  },
  {
   "cell_type": "markdown",
   "metadata": {
    "id": "5G0Easo9O9Du",
    "pycharm": {
     "name": "#%% md\n"
    }
   },
   "source": [
    "Еще одной стандартной техникой, применяющейся в глубинном обучении, а особенно часто в компьютерном зрении, являются аугментации данных. Суть аугментаций состоит в том, что мы можем некоторым синтетическим образом видоизменять объекты обучающей выборки, тем самым расширяя ее, а также делая итоговую модель более устойчивой к таким изменениям.\n",
    "\n",
    "Простейшая аугментация, которую можно применить к картинкам — разворот картинки по горизонтальной оси. То есть при обучении модели с вероятностью $0.5$ мы будем разворачивать картинку из обучающей выборки."
   ]
  },
  {
   "cell_type": "code",
   "execution_count": 51,
   "metadata": {
    "id": "SzeFpgtfO9Du",
    "pycharm": {
     "name": "#%%\n"
    }
   },
   "outputs": [
    {
     "name": "stderr",
     "output_type": "stream",
     "text": [
      "Clipping input data to the valid range for imshow with RGB data ([0..1] for floats or [0..255] for integers). Got range [-0.39153773..1.5504175].\n"
     ]
    },
    {
     "data": {
      "image/png": "[encoded data removed]",
      "text/plain": [
       "<Figure size 640x480 with 1 Axes>"
      ]
     },
     "metadata": {},
     "output_type": "display_data"
    },
    {
     "name": "stderr",
     "output_type": "stream",
     "text": [
      "Clipping input data to the valid range for imshow with RGB data ([0..1] for floats or [0..255] for integers). Got range [-0.39153773..1.5504175].\n"
     ]
    },
    {
     "data": {
      "image/png": "[encoded data removed]",
      "text/plain": [
       "<Figure size 640x480 with 1 Axes>"
      ]
     },
     "metadata": {},
     "output_type": "display_data"
    }
   ],
   "source": [
    "dataiter = iter(train_loader)\n",
    "images, labels = next(dataiter)\n",
    "\n",
    "imshow(torchvision.utils.make_grid(images[:4]))\n",
    "\n",
    "imshow(torchvision.utils.make_grid(transforms.functional.hflip(images[:4])))"
   ]
  },
  {
   "cell_type": "markdown",
   "metadata": {
    "id": "BR4a-XJQO9Du",
    "pycharm": {
     "name": "#%% md\n"
    }
   },
   "source": [
    "Наиболее удобным способом работы с аугментациями в PyTorch является их задание в списке <code>transforms</code>, который затем передается в загрузчик данных. Обучим нашу сеть, применяя горизонтальные повороты:"
   ]
  },
  {
   "cell_type": "code",
   "execution_count": 52,
   "metadata": {
    "id": "na0ScBf-_AqX",
    "pycharm": {
     "name": "#%%\n"
    },
    "scrolled": true
   },
   "outputs": [
    {
     "name": "stderr",
     "output_type": "stream",
     "text": [
      "100%|██████████| 547/547 [00:46<00:00, 11.70it/s]\n",
      "100%|██████████| 235/235 [00:41<00:00,  5.71it/s]\n"
     ]
    },
    {
     "name": "stdout",
     "output_type": "stream",
     "text": [
      "Epoch 0\n",
      " train loss: 0.02344394102692604, train acc: 0.4656282663345337\n",
      " val loss: 0.019603952765464783, val acc: 0.5519724488258362\n",
      "\n"
     ]
    },
    {
     "name": "stderr",
     "output_type": "stream",
     "text": [
      "100%|██████████| 547/547 [00:46<00:00, 11.77it/s]\n",
      "100%|██████████| 235/235 [00:41<00:00,  5.70it/s]\n"
     ]
    },
    {
     "name": "stdout",
     "output_type": "stream",
     "text": [
      "Epoch 1\n",
      " train loss: 0.018279582262039185, train acc: 0.5893183946609497\n",
      " val loss: 0.01711393892765045, val acc: 0.623847484588623\n",
      "\n"
     ]
    },
    {
     "name": "stderr",
     "output_type": "stream",
     "text": [
      "100%|██████████| 547/547 [00:46<00:00, 11.78it/s]\n",
      "100%|██████████| 235/235 [00:41<00:00,  5.70it/s]\n"
     ]
    },
    {
     "name": "stdout",
     "output_type": "stream",
     "text": [
      "Epoch 2\n",
      " train loss: 0.01656031794846058, train acc: 0.6321657299995422\n",
      " val loss: 0.01630469784140587, val acc: 0.6445478796958923\n",
      "\n"
     ]
    },
    {
     "name": "stderr",
     "output_type": "stream",
     "text": [
      "100%|██████████| 547/547 [00:46<00:00, 11.80it/s]\n",
      "100%|██████████| 235/235 [00:41<00:00,  5.70it/s]\n"
     ]
    },
    {
     "name": "stdout",
     "output_type": "stream",
     "text": [
      "Epoch 3\n",
      " train loss: 0.015674423426389694, train acc: 0.6541361808776855\n",
      " val loss: 0.016690129414200783, val acc: 0.6433953642845154\n",
      "\n"
     ]
    },
    {
     "name": "stderr",
     "output_type": "stream",
     "text": [
      "100%|██████████| 547/547 [00:46<00:00, 11.81it/s]\n",
      "100%|██████████| 235/235 [00:41<00:00,  5.72it/s]\n"
     ]
    },
    {
     "name": "stdout",
     "output_type": "stream",
     "text": [
      "Epoch 4\n",
      " train loss: 0.015008880756795406, train acc: 0.6673454642295837\n",
      " val loss: 0.015484455041587353, val acc: 0.6604831218719482\n",
      "\n"
     ]
    },
    {
     "name": "stderr",
     "output_type": "stream",
     "text": [
      "100%|██████████| 547/547 [00:46<00:00, 11.79it/s]\n",
      "100%|██████████| 235/235 [00:41<00:00,  5.69it/s]\n"
     ]
    },
    {
     "name": "stdout",
     "output_type": "stream",
     "text": [
      "Epoch 5\n",
      " train loss: 0.014611664228141308, train acc: 0.675637423992157\n",
      " val loss: 0.015167158097028732, val acc: 0.6643617153167725\n",
      "\n"
     ]
    },
    {
     "name": "stderr",
     "output_type": "stream",
     "text": [
      "100%|██████████| 547/547 [00:46<00:00, 11.81it/s]\n",
      "100%|██████████| 235/235 [00:41<00:00,  5.72it/s]\n"
     ]
    },
    {
     "name": "stdout",
     "output_type": "stream",
     "text": [
      "Epoch 6\n",
      " train loss: 0.01431508082896471, train acc: 0.6858228445053101\n",
      " val loss: 0.015152908861637115, val acc: 0.6681737899780273\n",
      "\n"
     ]
    },
    {
     "name": "stderr",
     "output_type": "stream",
     "text": [
      "100%|██████████| 547/547 [00:46<00:00, 11.77it/s]\n",
      "100%|██████████| 235/235 [00:41<00:00,  5.70it/s]\n"
     ]
    },
    {
     "name": "stdout",
     "output_type": "stream",
     "text": [
      "Epoch 7\n",
      " train loss: 0.014087986201047897, train acc: 0.6882222890853882\n",
      " val loss: 0.014334394596517086, val acc: 0.6909352540969849\n",
      "\n"
     ]
    },
    {
     "name": "stderr",
     "output_type": "stream",
     "text": [
      "100%|██████████| 547/547 [00:46<00:00, 11.79it/s]\n",
      "100%|██████████| 235/235 [00:41<00:00,  5.70it/s]\n"
     ]
    },
    {
     "name": "stdout",
     "output_type": "stream",
     "text": [
      "Epoch 8\n",
      " train loss: 0.01391487754881382, train acc: 0.6930946707725525\n",
      " val loss: 0.01461797021329403, val acc: 0.6809175610542297\n",
      "\n"
     ]
    },
    {
     "name": "stderr",
     "output_type": "stream",
     "text": [
      "100%|██████████| 547/547 [00:46<00:00, 11.78it/s]\n",
      "100%|██████████| 235/235 [00:41<00:00,  5.64it/s]\n"
     ]
    },
    {
     "name": "stdout",
     "output_type": "stream",
     "text": [
      "Epoch 9\n",
      " train loss: 0.013574513606727123, train acc: 0.6975671052932739\n",
      " val loss: 0.013960829935967922, val acc: 0.698980450630188\n",
      "\n"
     ]
    },
    {
     "name": "stderr",
     "output_type": "stream",
     "text": [
      "100%|██████████| 547/547 [00:47<00:00, 11.63it/s]\n",
      "100%|██████████| 235/235 [00:41<00:00,  5.69it/s]\n"
     ]
    },
    {
     "name": "stdout",
     "output_type": "stream",
     "text": [
      "Epoch 10\n",
      " train loss: 0.012119520455598831, train acc: 0.7318245768547058\n",
      " val loss: 0.012859792448580265, val acc: 0.7230495810508728\n",
      "\n"
     ]
    },
    {
     "name": "stderr",
     "output_type": "stream",
     "text": [
      "100%|██████████| 547/547 [00:46<00:00, 11.71it/s]\n",
      "100%|██████████| 235/235 [00:41<00:00,  5.67it/s]\n"
     ]
    },
    {
     "name": "stdout",
     "output_type": "stream",
     "text": [
      "Epoch 11\n",
      " train loss: 0.01187546830624342, train acc: 0.7367458939552307\n",
      " val loss: 0.01276619266718626, val acc: 0.7235372066497803\n",
      "\n"
     ]
    },
    {
     "name": "stderr",
     "output_type": "stream",
     "text": [
      "100%|██████████| 547/547 [00:46<00:00, 11.74it/s]\n",
      "100%|██████████| 235/235 [00:41<00:00,  5.67it/s]\n"
     ]
    },
    {
     "name": "stdout",
     "output_type": "stream",
     "text": [
      "Epoch 12\n",
      " train loss: 0.011806224472820759, train acc: 0.7411938905715942\n",
      " val loss: 0.012639204040169716, val acc: 0.7261081337928772\n",
      "\n"
     ]
    },
    {
     "name": "stderr",
     "output_type": "stream",
     "text": [
      "100%|██████████| 547/547 [00:46<00:00, 11.72it/s]\n",
      "100%|██████████| 235/235 [00:41<00:00,  5.69it/s]\n"
     ]
    },
    {
     "name": "stdout",
     "output_type": "stream",
     "text": [
      "Epoch 13\n",
      " train loss: 0.01171916164457798, train acc: 0.743103563785553\n",
      " val loss: 0.01249647419899702, val acc: 0.728900671005249\n",
      "\n"
     ]
    },
    {
     "name": "stderr",
     "output_type": "stream",
     "text": [
      "100%|██████████| 547/547 [00:46<00:00, 11.74it/s]\n",
      "100%|██████████| 235/235 [00:41<00:00,  5.67it/s]\n"
     ]
    },
    {
     "name": "stdout",
     "output_type": "stream",
     "text": [
      "Epoch 14\n",
      " train loss: 0.011661355383694172, train acc: 0.7436871528625488\n",
      " val loss: 0.012528099119663239, val acc: 0.7249557375907898\n",
      "\n"
     ]
    },
    {
     "name": "stderr",
     "output_type": "stream",
     "text": [
      "100%|██████████| 547/547 [00:46<00:00, 11.74it/s]\n",
      "100%|██████████| 235/235 [00:41<00:00,  5.66it/s]\n"
     ]
    },
    {
     "name": "stdout",
     "output_type": "stream",
     "text": [
      "Epoch 15\n",
      " train loss: 0.01146200392395258, train acc: 0.7476821541786194\n",
      " val loss: 0.01244475319981575, val acc: 0.7321143746376038\n",
      "\n"
     ]
    },
    {
     "name": "stderr",
     "output_type": "stream",
     "text": [
      "100%|██████████| 547/547 [00:46<00:00, 11.75it/s]\n",
      "100%|██████████| 235/235 [00:41<00:00,  5.64it/s]\n"
     ]
    },
    {
     "name": "stdout",
     "output_type": "stream",
     "text": [
      "Epoch 16\n",
      " train loss: 0.011444639414548874, train acc: 0.7474372982978821\n",
      " val loss: 0.01246524229645729, val acc: 0.7304078340530396\n",
      "\n"
     ]
    },
    {
     "name": "stderr",
     "output_type": "stream",
     "text": [
      "100%|██████████| 547/547 [00:47<00:00, 11.59it/s]\n",
      "100%|██████████| 235/235 [00:41<00:00,  5.62it/s]\n"
     ]
    },
    {
     "name": "stdout",
     "output_type": "stream",
     "text": [
      "Epoch 17\n",
      " train loss: 0.011435778811573982, train acc: 0.7483962774276733\n",
      " val loss: 0.01250182930380106, val acc: 0.7270833849906921\n",
      "\n"
     ]
    },
    {
     "name": "stderr",
     "output_type": "stream",
     "text": [
      "100%|██████████| 547/547 [00:48<00:00, 11.16it/s]\n",
      "100%|██████████| 235/235 [00:43<00:00,  5.35it/s]\n"
     ]
    },
    {
     "name": "stdout",
     "output_type": "stream",
     "text": [
      "Epoch 18\n",
      " train loss: 0.011412663385272026, train acc: 0.7478780746459961\n",
      " val loss: 0.012405214831233025, val acc: 0.732025682926178\n",
      "\n"
     ]
    },
    {
     "name": "stderr",
     "output_type": "stream",
     "text": [
      "100%|██████████| 547/547 [00:48<00:00, 11.34it/s] \n",
      "100%|██████████| 235/235 [00:43<00:00,  5.39it/s]"
     ]
    },
    {
     "name": "stdout",
     "output_type": "stream",
     "text": [
      "Epoch 19\n",
      " train loss: 0.01140599511563778, train acc: 0.7493225932121277\n",
      " val loss: 0.012452206574380398, val acc: 0.7287676930427551\n",
      "\n"
     ]
    },
    {
     "name": "stderr",
     "output_type": "stream",
     "text": [
      "\n"
     ]
    }
   ],
   "source": [
    "transform = transforms.Compose(\n",
    "    [\n",
    "        transforms.RandomHorizontalFlip(),\n",
    "        transforms.ToTensor(),\n",
    "        transforms.Normalize(mean, std),\n",
    "    ]\n",
    ")\n",
    "\n",
    "train_loader, val_loader, test_loader = get_cifar10_data(\n",
    "    batch_size=64, transform_train=transform\n",
    ")\n",
    "\n",
    "net = BasicBlockNet().to(device)\n",
    "optimizer = optim.SGD(net.parameters(), lr=0.1, momentum=0.9, fused=True)\n",
    "scheduler = optim.lr_scheduler.MultiStepLR(optimizer, milestones=[10, 15], gamma=0.1)\n",
    "tr_loss_log, tr_acc_log, val_loss_log, val_acc_log = train(\n",
    "    net, criterion, optimizer, 20, train_loader, val_loader, scheduler\n",
    ")"
   ]
  },
  {
   "cell_type": "markdown",
   "metadata": {
    "id": "v3ZIqDQqO9Dv",
    "pycharm": {
     "name": "#%% md\n"
    }
   },
   "source": [
    "Посчитайте точность на тестовой выборке:"
   ]
  },
  {
   "cell_type": "code",
   "execution_count": null,
   "metadata": {
    "id": "nNJizMkM_Auh",
    "pycharm": {
     "name": "#%%\n"
    }
   },
   "outputs": [
    {
     "name": "stderr",
     "output_type": "stream",
     "text": [
      "100%|██████████| 157/157 [00:35<00:00,  4.46it/s]\n"
     ]
    },
    {
     "data": {
      "text/plain": [
       "0.7223328"
      ]
     },
     "execution_count": 53,
     "metadata": {},
     "output_type": "execute_result"
    }
   ],
   "source": [
    "# <your code here>\n",
    "#добавление 1 аугментации повысило качество модели на 1% \n",
    "test_loss5, test_acc5 = test(net, criterion, test_loader)\n",
    "test_acc5"
   ]
  },
  {
   "cell_type": "markdown",
   "metadata": {
    "id": "KndehSCHO9Dv",
    "pycharm": {
     "name": "#%% md\n"
    }
   },
   "source": [
    "**Задание 4.1 (2 балла).** Изучите, какие еще способы аугментаций изображений представлены в <code>torchvision.transforms</code>. Выберите несколько из них, объясните, как они устроены, и обучите модель с ними (по отдельности и вместе). Удалось ли добиться улучшения качества на тестовой выборке?"
   ]
  },
  {
   "cell_type": "code",
   "execution_count": 55,
   "metadata": {},
   "outputs": [
    {
     "name": "stderr",
     "output_type": "stream",
     "text": [
      "100%|██████████| 547/547 [00:47<00:00, 11.58it/s]\n",
      "100%|██████████| 235/235 [00:41<00:00,  5.66it/s]\n"
     ]
    },
    {
     "name": "stdout",
     "output_type": "stream",
     "text": [
      "Epoch 0\n",
      " train loss: 0.025265883654356003, train acc: 0.4198346436023712\n",
      " val loss: 0.021662143990397453, val acc: 0.5043882727622986\n",
      "\n"
     ]
    },
    {
     "name": "stderr",
     "output_type": "stream",
     "text": [
      "100%|██████████| 547/547 [00:47<00:00, 11.57it/s]\n",
      "100%|██████████| 235/235 [00:41<00:00,  5.63it/s]\n"
     ]
    },
    {
     "name": "stdout",
     "output_type": "stream",
     "text": [
      "Epoch 1\n",
      " train loss: 0.021684588864445686, train acc: 0.502983033657074\n",
      " val loss: 0.020725281909108162, val acc: 0.5304521322250366\n",
      "\n"
     ]
    },
    {
     "name": "stderr",
     "output_type": "stream",
     "text": [
      "100%|██████████| 547/547 [00:47<00:00, 11.61it/s]\n",
      "100%|██████████| 235/235 [00:41<00:00,  5.61it/s]\n"
     ]
    },
    {
     "name": "stdout",
     "output_type": "stream",
     "text": [
      "Epoch 2\n",
      " train loss: 0.020327001810073853, train acc: 0.5379056334495544\n",
      " val loss: 0.019862856715917587, val acc: 0.5534352660179138\n",
      "\n"
     ]
    },
    {
     "name": "stderr",
     "output_type": "stream",
     "text": [
      "100%|██████████| 547/547 [00:49<00:00, 11.02it/s]\n",
      "100%|██████████| 235/235 [00:43<00:00,  5.39it/s]\n"
     ]
    },
    {
     "name": "stdout",
     "output_type": "stream",
     "text": [
      "Epoch 3\n",
      " train loss: 0.019574390724301338, train acc: 0.5549874305725098\n",
      " val loss: 0.01935371197760105, val acc: 0.5664228796958923\n",
      "\n"
     ]
    },
    {
     "name": "stderr",
     "output_type": "stream",
     "text": [
      "100%|██████████| 547/547 [00:47<00:00, 11.41it/s]\n",
      "100%|██████████| 235/235 [00:43<00:00,  5.45it/s]\n"
     ]
    },
    {
     "name": "stdout",
     "output_type": "stream",
     "text": [
      "Epoch 4\n",
      " train loss: 0.018932601436972618, train acc: 0.5743054747581482\n",
      " val loss: 0.019161120057106018, val acc: 0.5712543725967407\n",
      "\n"
     ]
    },
    {
     "name": "stderr",
     "output_type": "stream",
     "text": [
      "100%|██████████| 547/547 [00:48<00:00, 11.36it/s]\n",
      "100%|██████████| 235/235 [00:43<00:00,  5.41it/s]\n"
     ]
    },
    {
     "name": "stdout",
     "output_type": "stream",
     "text": [
      "Epoch 5\n",
      " train loss: 0.018551263958215714, train acc: 0.5817446112632751\n",
      " val loss: 0.018560729920864105, val acc: 0.5855275392532349\n",
      "\n"
     ]
    },
    {
     "name": "stderr",
     "output_type": "stream",
     "text": [
      "100%|██████████| 547/547 [00:48<00:00, 11.25it/s]\n",
      "100%|██████████| 235/235 [00:41<00:00,  5.61it/s]\n"
     ]
    },
    {
     "name": "stdout",
     "output_type": "stream",
     "text": [
      "Epoch 6\n",
      " train loss: 0.018241899088025093, train acc: 0.5886980891227722\n",
      " val loss: 0.01772242598235607, val acc: 0.5985814929008484\n",
      "\n"
     ]
    },
    {
     "name": "stderr",
     "output_type": "stream",
     "text": [
      "100%|██████████| 547/547 [00:46<00:00, 11.73it/s]\n",
      "100%|██████████| 235/235 [00:41<00:00,  5.64it/s]\n"
     ]
    },
    {
     "name": "stdout",
     "output_type": "stream",
     "text": [
      "Epoch 7\n",
      " train loss: 0.018082981929183006, train acc: 0.5901631116867065\n",
      " val loss: 0.01837814413011074, val acc: 0.592597484588623\n",
      "\n"
     ]
    },
    {
     "name": "stderr",
     "output_type": "stream",
     "text": [
      "100%|██████████| 547/547 [00:47<00:00, 11.62it/s]\n",
      "100%|██████████| 235/235 [00:42<00:00,  5.48it/s]\n"
     ]
    },
    {
     "name": "stdout",
     "output_type": "stream",
     "text": [
      "Epoch 8\n",
      " train loss: 0.01794966123998165, train acc: 0.5943294167518616\n",
      " val loss: 0.017896294593811035, val acc: 0.5971631407737732\n",
      "\n"
     ]
    },
    {
     "name": "stderr",
     "output_type": "stream",
     "text": [
      "100%|██████████| 547/547 [00:48<00:00, 11.30it/s]\n",
      "100%|██████████| 235/235 [00:41<00:00,  5.65it/s]\n"
     ]
    },
    {
     "name": "stdout",
     "output_type": "stream",
     "text": [
      "Epoch 9\n",
      " train loss: 0.017584320157766342, train acc: 0.6030907034873962\n",
      " val loss: 0.01770632714033127, val acc: 0.605518639087677\n",
      "\n"
     ]
    },
    {
     "name": "stderr",
     "output_type": "stream",
     "text": [
      "100%|██████████| 547/547 [00:46<00:00, 11.72it/s]\n",
      "100%|██████████| 235/235 [00:41<00:00,  5.68it/s]\n"
     ]
    },
    {
     "name": "stdout",
     "output_type": "stream",
     "text": [
      "Epoch 10\n",
      " train loss: 0.01628844439983368, train acc: 0.6345121264457703\n",
      " val loss: 0.016349777579307556, val acc: 0.633643627166748\n",
      "\n"
     ]
    },
    {
     "name": "stderr",
     "output_type": "stream",
     "text": [
      "100%|██████████| 547/547 [00:46<00:00, 11.72it/s]\n",
      "100%|██████████| 235/235 [00:41<00:00,  5.66it/s]\n"
     ]
    },
    {
     "name": "stdout",
     "output_type": "stream",
     "text": [
      "Epoch 11\n",
      " train loss: 0.016044126823544502, train acc: 0.6372666358947754\n",
      " val loss: 0.016311977058649063, val acc: 0.6350398659706116\n",
      "\n"
     ]
    },
    {
     "name": "stderr",
     "output_type": "stream",
     "text": [
      "100%|██████████| 547/547 [00:46<00:00, 11.68it/s]\n",
      "100%|██████████| 235/235 [00:42<00:00,  5.56it/s]\n"
     ]
    },
    {
     "name": "stdout",
     "output_type": "stream",
     "text": [
      "Epoch 12\n",
      " train loss: 0.01604905165731907, train acc: 0.6419267058372498\n",
      " val loss: 0.01635063998401165, val acc: 0.632446825504303\n",
      "\n"
     ]
    },
    {
     "name": "stderr",
     "output_type": "stream",
     "text": [
      "100%|██████████| 547/547 [00:47<00:00, 11.63it/s]\n",
      "100%|██████████| 235/235 [00:41<00:00,  5.68it/s]\n"
     ]
    },
    {
     "name": "stdout",
     "output_type": "stream",
     "text": [
      "Epoch 13\n",
      " train loss: 0.015982719138264656, train acc: 0.6412738561630249\n",
      " val loss: 0.01619977317750454, val acc: 0.6368350982666016\n",
      "\n"
     ]
    },
    {
     "name": "stderr",
     "output_type": "stream",
     "text": [
      "100%|██████████| 547/547 [00:46<00:00, 11.67it/s]\n",
      "100%|██████████| 235/235 [00:41<00:00,  5.69it/s]\n"
     ]
    },
    {
     "name": "stdout",
     "output_type": "stream",
     "text": [
      "Epoch 14\n",
      " train loss: 0.01593380607664585, train acc: 0.6444486379623413\n",
      " val loss: 0.0161584559828043, val acc: 0.640159547328949\n",
      "\n"
     ]
    },
    {
     "name": "stderr",
     "output_type": "stream",
     "text": [
      "  0%|          | 0/547 [00:00<?, ?it/s]Exception ignored in: <function _MultiProcessingDataLoaderIter.__del__ at 0x0000022DE1887D80>\n",
      "Traceback (most recent call last):\n",
      "  File \"C:\\Users\\admin\\AppData\\Local\\Packages\\PythonSoftwareFoundation.Python.3.11_qbz5n2kfra8p0\\LocalCache\\local-packages\\Python311\\site-packages\\torch\\utils\\data\\dataloader.py\", line 1663, in __del__\n",
      "    self._shutdown_workers()\n",
      "  File \"C:\\Users\\admin\\AppData\\Local\\Packages\\PythonSoftwareFoundation.Python.3.11_qbz5n2kfra8p0\\LocalCache\\local-packages\\Python311\\site-packages\\torch\\utils\\data\\dataloader.py\", line 1621, in _shutdown_workers\n",
      "    if self._persistent_workers or self._workers_status[worker_id]:\n",
      "                                   ^^^^^^^^^^^^^^^^^^^^\n",
      "AttributeError: '_MultiProcessingDataLoaderIter' object has no attribute '_workers_status'\n",
      "100%|██████████| 547/547 [00:47<00:00, 11.63it/s]\n",
      "100%|██████████| 235/235 [00:41<00:00,  5.65it/s]\n"
     ]
    },
    {
     "name": "stdout",
     "output_type": "stream",
     "text": [
      "Epoch 15\n",
      " train loss: 0.015753259882330894, train acc: 0.647521436214447\n",
      " val loss: 0.016011493280529976, val acc: 0.6396054625511169\n",
      "\n"
     ]
    },
    {
     "name": "stderr",
     "output_type": "stream",
     "text": [
      "100%|██████████| 547/547 [00:47<00:00, 11.62it/s]\n",
      "100%|██████████| 235/235 [00:41<00:00,  5.68it/s]\n"
     ]
    },
    {
     "name": "stdout",
     "output_type": "stream",
     "text": [
      "Epoch 16\n",
      " train loss: 0.015696369111537933, train acc: 0.6463175415992737\n",
      " val loss: 0.015934424474835396, val acc: 0.6443483829498291\n",
      "\n"
     ]
    },
    {
     "name": "stderr",
     "output_type": "stream",
     "text": [
      "100%|██████████| 547/547 [00:46<00:00, 11.70it/s]\n",
      "100%|██████████| 235/235 [00:41<00:00,  5.68it/s]\n"
     ]
    },
    {
     "name": "stdout",
     "output_type": "stream",
     "text": [
      "Epoch 17\n",
      " train loss: 0.015624850057065487, train acc: 0.6470888257026672\n",
      " val loss: 0.01604016311466694, val acc: 0.6396941542625427\n",
      "\n"
     ]
    },
    {
     "name": "stderr",
     "output_type": "stream",
     "text": [
      "100%|██████████| 547/547 [00:46<00:00, 11.71it/s]\n",
      "100%|██████████| 235/235 [00:41<00:00,  5.66it/s]\n"
     ]
    },
    {
     "name": "stdout",
     "output_type": "stream",
     "text": [
      "Epoch 18\n",
      " train loss: 0.015576674602925777, train acc: 0.6502309441566467\n",
      " val loss: 0.01589963585138321, val acc: 0.6438829898834229\n",
      "\n"
     ]
    },
    {
     "name": "stderr",
     "output_type": "stream",
     "text": [
      "100%|██████████| 547/547 [00:47<00:00, 11.61it/s]\n",
      "100%|██████████| 235/235 [00:43<00:00,  5.44it/s]\n"
     ]
    },
    {
     "name": "stdout",
     "output_type": "stream",
     "text": [
      "Epoch 19\n",
      " train loss: 0.015671871602535248, train acc: 0.6479865908622742\n",
      " val loss: 0.01598796807229519, val acc: 0.6436170339584351\n",
      "\n"
     ]
    },
    {
     "name": "stderr",
     "output_type": "stream",
     "text": [
      "100%|██████████| 157/157 [00:35<00:00,  4.39it/s]\n"
     ]
    },
    {
     "data": {
      "text/plain": [
       "0.62619424"
      ]
     },
     "execution_count": 55,
     "metadata": {},
     "output_type": "execute_result"
    }
   ],
   "source": [
    "# <your code here>\n",
    "transform = transforms.Compose(\n",
    "    [\n",
    "        transforms.RandomHorizontalFlip(),\n",
    "        transforms.RandomRotation(degrees=(0, 45)), #поворот изображение на Х градусов, Х - от 0 до 45\n",
    "        transforms.RandomPosterize(bits=2), #уменьшает количество бит для каждого цветового канала\n",
    "        transforms.ToTensor(),\n",
    "        transforms.Normalize(mean, std),\n",
    "    ]\n",
    ")\n",
    "\n",
    "train_loader, val_loader, test_loader = get_cifar10_data(\n",
    "    batch_size=64, transform_train=transform\n",
    ")\n",
    "\n",
    "net = BasicBlockNet().to(device)\n",
    "optimizer = optim.SGD(net.parameters(), lr=0.1, momentum=0.9, fused=True)\n",
    "scheduler = optim.lr_scheduler.MultiStepLR(optimizer, milestones=[10, 15], gamma=0.1)\n",
    "tr_loss_log, tr_acc_log, val_loss_log, val_acc_log = train(\n",
    "    net, criterion, optimizer, 20, train_loader, val_loader, scheduler\n",
    ")\n",
    "\n",
    "test_loss6, test_acc6 = test(net, criterion, test_loader)\n",
    "test_acc6"
   ]
  },
  {
   "cell_type": "code",
   "execution_count": null,
   "metadata": {
    "id": "Np4rgvdZ_QRF",
    "pycharm": {
     "name": "#%%\n"
    }
   },
   "outputs": [
    {
     "name": "stderr",
     "output_type": "stream",
     "text": [
      "100%|██████████| 547/547 [00:50<00:00, 10.88it/s]\n",
      "100%|██████████| 235/235 [00:44<00:00,  5.25it/s]\n"
     ]
    },
    {
     "name": "stdout",
     "output_type": "stream",
     "text": [
      "Epoch 0\n",
      " train loss: 0.034092918038368225, train acc: 0.1948166936635971\n",
      " val loss: 0.03334653377532959, val acc: 0.21057181060314178\n",
      "\n"
     ]
    },
    {
     "name": "stderr",
     "output_type": "stream",
     "text": [
      "100%|██████████| 547/547 [00:49<00:00, 11.03it/s]\n",
      "100%|██████████| 235/235 [00:43<00:00,  5.36it/s]\n"
     ]
    },
    {
     "name": "stdout",
     "output_type": "stream",
     "text": [
      "Epoch 1\n",
      " train loss: 0.033257607370615005, train acc: 0.2169504165649414\n",
      " val loss: 0.03326617553830147, val acc: 0.21988031268119812\n",
      "\n"
     ]
    },
    {
     "name": "stderr",
     "output_type": "stream",
     "text": [
      "100%|██████████| 547/547 [00:48<00:00, 11.19it/s]\n",
      "100%|██████████| 235/235 [00:43<00:00,  5.41it/s]\n"
     ]
    },
    {
     "name": "stdout",
     "output_type": "stream",
     "text": [
      "Epoch 2\n",
      " train loss: 0.032774344086647034, train acc: 0.22935165464878082\n",
      " val loss: 0.032942481338977814, val acc: 0.2204122394323349\n",
      "\n"
     ]
    },
    {
     "name": "stderr",
     "output_type": "stream",
     "text": [
      "100%|██████████| 547/547 [00:48<00:00, 11.25it/s]\n",
      "100%|██████████| 235/235 [00:43<00:00,  5.38it/s]\n"
     ]
    },
    {
     "name": "stdout",
     "output_type": "stream",
     "text": [
      "Epoch 3\n",
      " train loss: 0.03261932358145714, train acc: 0.22938838601112366\n",
      " val loss: 0.03258201852440834, val acc: 0.23499557375907898\n",
      "\n"
     ]
    },
    {
     "name": "stderr",
     "output_type": "stream",
     "text": [
      "100%|██████████| 547/547 [00:48<00:00, 11.23it/s]\n",
      "100%|██████████| 235/235 [00:43<00:00,  5.44it/s]\n"
     ]
    },
    {
     "name": "stdout",
     "output_type": "stream",
     "text": [
      "Epoch 4\n",
      " train loss: 0.032429277896881104, train acc: 0.23556247353553772\n",
      " val loss: 0.03267691656947136, val acc: 0.2326240986585617\n",
      "\n"
     ]
    },
    {
     "name": "stderr",
     "output_type": "stream",
     "text": [
      "100%|██████████| 547/547 [00:47<00:00, 11.46it/s]\n",
      "100%|██████████| 235/235 [00:42<00:00,  5.49it/s]\n"
     ]
    },
    {
     "name": "stdout",
     "output_type": "stream",
     "text": [
      "Epoch 5\n",
      " train loss: 0.032331936061382294, train acc: 0.23729269206523895\n",
      " val loss: 0.03248866647481918, val acc: 0.24618792533874512\n",
      "\n"
     ]
    },
    {
     "name": "stderr",
     "output_type": "stream",
     "text": [
      "100%|██████████| 547/547 [00:47<00:00, 11.50it/s]\n",
      "100%|██████████| 235/235 [00:42<00:00,  5.49it/s]\n"
     ]
    },
    {
     "name": "stdout",
     "output_type": "stream",
     "text": [
      "Epoch 6\n",
      " train loss: 0.032173171639442444, train acc: 0.24831059575080872\n",
      " val loss: 0.032366640865802765, val acc: 0.2577570974826813\n",
      "\n"
     ]
    },
    {
     "name": "stderr",
     "output_type": "stream",
     "text": [
      "100%|██████████| 547/547 [00:47<00:00, 11.46it/s]\n",
      "100%|██████████| 235/235 [00:42<00:00,  5.47it/s]\n"
     ]
    },
    {
     "name": "stdout",
     "output_type": "stream",
     "text": [
      "Epoch 7\n",
      " train loss: 0.032083697617053986, train acc: 0.2434627115726471\n",
      " val loss: 0.03197842091321945, val acc: 0.2495567500591278\n",
      "\n"
     ]
    },
    {
     "name": "stderr",
     "output_type": "stream",
     "text": [
      "100%|██████████| 547/547 [00:47<00:00, 11.52it/s]\n",
      "100%|██████████| 235/235 [00:42<00:00,  5.48it/s]\n"
     ]
    },
    {
     "name": "stdout",
     "output_type": "stream",
     "text": [
      "Epoch 8\n",
      " train loss: 0.03203877806663513, train acc: 0.25129765272140503\n",
      " val loss: 0.032036446034908295, val acc: 0.2500443160533905\n",
      "\n"
     ]
    },
    {
     "name": "stderr",
     "output_type": "stream",
     "text": [
      "100%|██████████| 547/547 [00:47<00:00, 11.48it/s]\n",
      "100%|██████████| 235/235 [00:42<00:00,  5.51it/s]\n"
     ]
    },
    {
     "name": "stdout",
     "output_type": "stream",
     "text": [
      "Epoch 9\n",
      " train loss: 0.03193442150950432, train acc: 0.2502162754535675\n",
      " val loss: 0.03191622346639633, val acc: 0.2574911117553711\n",
      "\n"
     ]
    },
    {
     "name": "stderr",
     "output_type": "stream",
     "text": [
      "100%|██████████| 547/547 [00:47<00:00, 11.53it/s]\n",
      "100%|██████████| 235/235 [00:42<00:00,  5.50it/s]\n"
     ]
    },
    {
     "name": "stdout",
     "output_type": "stream",
     "text": [
      "Epoch 10\n",
      " train loss: 0.031235620379447937, train acc: 0.2694690227508545\n",
      " val loss: 0.03141389042139053, val acc: 0.272628515958786\n",
      "\n"
     ]
    },
    {
     "name": "stderr",
     "output_type": "stream",
     "text": [
      "100%|██████████| 547/547 [00:47<00:00, 11.57it/s]\n",
      "100%|██████████| 235/235 [00:42<00:00,  5.49it/s]\n"
     ]
    },
    {
     "name": "stdout",
     "output_type": "stream",
     "text": [
      "Epoch 11\n",
      " train loss: 0.031144943088293076, train acc: 0.2719786465167999\n",
      " val loss: 0.03118983656167984, val acc: 0.2748670279979706\n",
      "\n"
     ]
    },
    {
     "name": "stderr",
     "output_type": "stream",
     "text": [
      "100%|██████████| 547/547 [00:47<00:00, 11.58it/s]\n",
      "100%|██████████| 235/235 [00:42<00:00,  5.49it/s]\n"
     ]
    },
    {
     "name": "stdout",
     "output_type": "stream",
     "text": [
      "Epoch 12\n",
      " train loss: 0.031056029722094536, train acc: 0.27534931898117065\n",
      " val loss: 0.03113049454987049, val acc: 0.27373671531677246\n",
      "\n"
     ]
    },
    {
     "name": "stderr",
     "output_type": "stream",
     "text": [
      "100%|██████████| 547/547 [00:48<00:00, 11.32it/s]\n",
      "100%|██████████| 235/235 [00:43<00:00,  5.41it/s]\n"
     ]
    },
    {
     "name": "stdout",
     "output_type": "stream",
     "text": [
      "Epoch 13\n",
      " train loss: 0.03102889657020569, train acc: 0.278719961643219\n",
      " val loss: 0.031074458733201027, val acc: 0.2764849066734314\n",
      "\n"
     ]
    },
    {
     "name": "stderr",
     "output_type": "stream",
     "text": [
      "100%|██████████| 547/547 [00:48<00:00, 11.33it/s]\n",
      "100%|██████████| 235/235 [00:43<00:00,  5.45it/s]\n"
     ]
    },
    {
     "name": "stdout",
     "output_type": "stream",
     "text": [
      "Epoch 14\n",
      " train loss: 0.031003840267658234, train acc: 0.2775079905986786\n",
      " val loss: 0.03115643560886383, val acc: 0.28207001090049744\n",
      "\n"
     ]
    },
    {
     "name": "stderr",
     "output_type": "stream",
     "text": [
      "100%|██████████| 547/547 [00:49<00:00, 11.06it/s]\n",
      "100%|██████████| 235/235 [00:42<00:00,  5.50it/s]\n"
     ]
    },
    {
     "name": "stdout",
     "output_type": "stream",
     "text": [
      "Epoch 15\n",
      " train loss: 0.030902018770575523, train acc: 0.2820335030555725\n",
      " val loss: 0.03096846677362919, val acc: 0.2821808457374573\n",
      "\n"
     ]
    },
    {
     "name": "stderr",
     "output_type": "stream",
     "text": [
      "100%|██████████| 547/547 [00:48<00:00, 11.32it/s]\n",
      "100%|██████████| 235/235 [00:43<00:00,  5.41it/s]\n"
     ]
    },
    {
     "name": "stdout",
     "output_type": "stream",
     "text": [
      "Epoch 16\n",
      " train loss: 0.03082999959588051, train acc: 0.2813561260700226\n",
      " val loss: 0.030919885262846947, val acc: 0.2835550010204315\n",
      "\n"
     ]
    },
    {
     "name": "stderr",
     "output_type": "stream",
     "text": [
      "100%|██████████| 547/547 [00:47<00:00, 11.40it/s]\n",
      "100%|██████████| 235/235 [00:42<00:00,  5.53it/s]\n"
     ]
    },
    {
     "name": "stdout",
     "output_type": "stream",
     "text": [
      "Epoch 17\n",
      " train loss: 0.030861731618642807, train acc: 0.28088271617889404\n",
      " val loss: 0.030776163563132286, val acc: 0.28512853384017944\n",
      "\n"
     ]
    },
    {
     "name": "stderr",
     "output_type": "stream",
     "text": [
      "100%|██████████| 547/547 [00:47<00:00, 11.50it/s]\n",
      "100%|██████████| 235/235 [00:42<00:00,  5.53it/s]\n"
     ]
    },
    {
     "name": "stdout",
     "output_type": "stream",
     "text": [
      "Epoch 18\n",
      " train loss: 0.03083225153386593, train acc: 0.28575101494789124\n",
      " val loss: 0.03106190823018551, val acc: 0.27584221959114075\n",
      "\n"
     ]
    },
    {
     "name": "stderr",
     "output_type": "stream",
     "text": [
      "100%|██████████| 547/547 [00:48<00:00, 11.35it/s]\n",
      "100%|██████████| 235/235 [00:43<00:00,  5.42it/s]\n"
     ]
    },
    {
     "name": "stdout",
     "output_type": "stream",
     "text": [
      "Epoch 19\n",
      " train loss: 0.03083968721330166, train acc: 0.28526541590690613\n",
      " val loss: 0.030890164896845818, val acc: 0.28953903913497925\n",
      "\n"
     ]
    },
    {
     "name": "stderr",
     "output_type": "stream",
     "text": [
      "100%|██████████| 157/157 [00:34<00:00,  4.55it/s]\n"
     ]
    },
    {
     "data": {
      "text/plain": [
       "0.33459395"
      ]
     },
     "execution_count": 54,
     "metadata": {},
     "output_type": "execute_result"
    }
   ],
   "source": [
    "# Если применить много сложных аугментаций, то качество модели при том же количестве эпох значительно снижается. \n",
    "# Возможно это связано с недообучением (лосс на валидации очень медленно, но снижается), а данные слишком разнообразны\n",
    "\n",
    "\n",
    "transform = transforms.Compose(\n",
    "    [\n",
    "        transforms.RandomHorizontalFlip(),\n",
    "        transforms.RandomRotation(degrees=(0, 180)), #поворот изображение на Х градусов, Х - от 0 до 180\n",
    "        transforms.ElasticTransform(alpha=250.0), #добавляет линиям на изображении \"дрожание\"\n",
    "        transforms.GaussianBlur(kernel_size=(5, 9), sigma=(0.1, 5.)), #заблюривает, \"размывает\" изображение\n",
    "        transforms.RandomPosterize(bits=2), #уменьшает количество бит для каждого цветового канала\n",
    "        transforms.RandomEqualize(), #выравнивает гистограмму изображения\n",
    "        transforms.ToTensor(),\n",
    "        transforms.Normalize(mean, std),\n",
    "    ]\n",
    ")\n",
    "\n",
    "train_loader, val_loader, test_loader = get_cifar10_data(\n",
    "    batch_size=64, transform_train=transform\n",
    ")\n",
    "\n",
    "net = BasicBlockNet().to(device)\n",
    "optimizer = optim.SGD(net.parameters(), lr=0.1, momentum=0.9, fused=True)\n",
    "scheduler = optim.lr_scheduler.MultiStepLR(optimizer, milestones=[10, 15], gamma=0.1)\n",
    "tr_loss_log, tr_acc_log, val_loss_log, val_acc_log = train(\n",
    "    net, criterion, optimizer, 20, train_loader, val_loader, scheduler\n",
    ")\n",
    "\n",
    "test_loss7, test_acc7 = test(net, criterion, test_loader)\n",
    "test_acc7"
   ]
  },
  {
   "cell_type": "markdown",
   "metadata": {
    "id": "4K-MptLiO9Dv",
    "pycharm": {
     "name": "#%% md\n"
    }
   },
   "source": [
    "Your answers here:"
   ]
  },
  {
   "cell_type": "markdown",
   "metadata": {
    "id": "HCENjLw5O9Dv",
    "pycharm": {
     "name": "#%% md\n"
    }
   },
   "source": [
    "## Бонус. Логирование в wandb (1 балл)"
   ]
  },
  {
   "cell_type": "markdown",
   "metadata": {
    "id": "xOyzc1mnO9Dv",
    "pycharm": {
     "name": "#%% md\n"
    }
   },
   "source": [
    "На практике специалиста по глубинному обучению часто встречаются ситуации, когда нейросеть учится на каком-то удаленном сервере. И обычно вам хочется отслеживать прогресс обучения, особенно когда время обучения модели исчисляется днями или неделями. Для таких целей существует несколько инструментов. Вероятно, самый популярный из них — [wandb](https://wandb.ai/site).\n",
    "\n",
    "Ваша задача состоит в том, чтобы разобраться как им пользоваться, и повторить задания 2.1 и 2.2 с его использованием. Обучение вы можете запускать в этом же ноутбуке, но теперь вам необходимо через wandb логировать значения функции потерь и точности на обучающей выборке и на валидационной. Результатом работы должны быть ваш код и публичная ссылка на страничку с графиками, идентичными графикам в задании 2.2.\n",
    "\n",
    "Если вас смущает, что WandB грозится забанить вас, то можете разобраться с любым его аналогом и приложить ссылку на аналог."
   ]
  },
  {
   "cell_type": "code",
   "execution_count": null,
   "metadata": {
    "id": "m5gSTLAr_QS4",
    "pycharm": {
     "name": "#%%\n"
    }
   },
   "outputs": [
    {
     "name": "stderr",
     "output_type": "stream",
     "text": [
      "\u001b[34m\u001b[1mwandb\u001b[0m: Currently logged in as: \u001b[33mpooh_08\u001b[0m (\u001b[33mpooh_08-hse\u001b[0m) to \u001b[32mhttps://api.wandb.ai\u001b[0m. Use \u001b[1m`wandb login --relogin`\u001b[0m to force relogin\n"
     ]
    },
    {
     "data": {
      "text/html": [
       "creating run (0.0s)"
      ],
      "text/plain": [
       "<IPython.core.display.HTML object>"
      ]
     },
     "metadata": {},
     "output_type": "display_data"
    },
    {
     "data": {
      "text/html": [
       "Tracking run with wandb version 0.19.10"
      ],
      "text/plain": [
       "<IPython.core.display.HTML object>"
      ]
     },
     "metadata": {},
     "output_type": "display_data"
    },
    {
     "data": {
      "text/html": [
       "Run data is saved locally in <code>c:\\Users\\admin\\Desktop\\HSE\\DL\\HW_02\\wandb\\run-20250505_224456-0yclrzdm</code>"
      ],
      "text/plain": [
       "<IPython.core.display.HTML object>"
      ]
     },
     "metadata": {},
     "output_type": "display_data"
    },
    {
     "data": {
      "text/html": [
       "Syncing run <strong><a href='https://wandb.ai/pooh_08-hse/wandb_project/runs/0yclrzdm' target=\"_blank\">mythical-council-1</a></strong> to <a href='https://wandb.ai/pooh_08-hse/wandb_project' target=\"_blank\">Weights & Biases</a> (<a href='https://wandb.me/developer-guide' target=\"_blank\">docs</a>)<br>"
      ],
      "text/plain": [
       "<IPython.core.display.HTML object>"
      ]
     },
     "metadata": {},
     "output_type": "display_data"
    },
    {
     "data": {
      "text/html": [
       " View project at <a href='https://wandb.ai/pooh_08-hse/wandb_project' target=\"_blank\">https://wandb.ai/pooh_08-hse/wandb_project</a>"
      ],
      "text/plain": [
       "<IPython.core.display.HTML object>"
      ]
     },
     "metadata": {},
     "output_type": "display_data"
    },
    {
     "data": {
      "text/html": [
       " View run at <a href='https://wandb.ai/pooh_08-hse/wandb_project/runs/0yclrzdm' target=\"_blank\">https://wandb.ai/pooh_08-hse/wandb_project/runs/0yclrzdm</a>"
      ],
      "text/plain": [
       "<IPython.core.display.HTML object>"
      ]
     },
     "metadata": {},
     "output_type": "display_data"
    },
    {
     "name": "stderr",
     "output_type": "stream",
     "text": [
      "100%|██████████| 547/547 [00:49<00:00, 11.00it/s]\n",
      "100%|██████████| 235/235 [00:43<00:00,  5.40it/s]\n"
     ]
    },
    {
     "name": "stdout",
     "output_type": "stream",
     "text": [
      "Epoch 0\n",
      " train loss: 0.026201069355010986, train acc: 0.3946036696434021\n",
      " val loss: 0.02445371076464653, val acc: 0.4474290609359741\n",
      "\n"
     ]
    },
    {
     "name": "stderr",
     "output_type": "stream",
     "text": [
      "100%|██████████| 547/547 [00:50<00:00, 10.89it/s]\n",
      "100%|██████████| 235/235 [00:44<00:00,  5.23it/s]\n"
     ]
    },
    {
     "name": "stdout",
     "output_type": "stream",
     "text": [
      "Epoch 1\n",
      " train loss: 0.022415965795516968, train acc: 0.48619088530540466\n",
      " val loss: 0.022061392664909363, val acc: 0.5039007067680359\n",
      "\n"
     ]
    },
    {
     "name": "stderr",
     "output_type": "stream",
     "text": [
      "100%|██████████| 547/547 [00:49<00:00, 11.06it/s]\n",
      "100%|██████████| 235/235 [00:42<00:00,  5.49it/s]\n"
     ]
    },
    {
     "name": "stdout",
     "output_type": "stream",
     "text": [
      "Epoch 2\n",
      " train loss: 0.020833725109696388, train acc: 0.5255410671234131\n",
      " val loss: 0.021090000867843628, val acc: 0.5199246406555176\n",
      "\n"
     ]
    },
    {
     "name": "stderr",
     "output_type": "stream",
     "text": [
      "100%|██████████| 547/547 [00:48<00:00, 11.24it/s]\n",
      "100%|██████████| 235/235 [00:45<00:00,  5.17it/s]\n"
     ]
    },
    {
     "name": "stdout",
     "output_type": "stream",
     "text": [
      "Epoch 3\n",
      " train loss: 0.02011917345225811, train acc: 0.544528603553772\n",
      " val loss: 0.020106175914406776, val acc: 0.5501329898834229\n",
      "\n"
     ]
    },
    {
     "name": "stderr",
     "output_type": "stream",
     "text": [
      "100%|██████████| 547/547 [00:48<00:00, 11.39it/s]\n",
      "100%|██████████| 235/235 [00:42<00:00,  5.55it/s]\n"
     ]
    },
    {
     "name": "stdout",
     "output_type": "stream",
     "text": [
      "Epoch 4\n",
      " train loss: 0.0195155031979084, train acc: 0.5554730296134949\n",
      " val loss: 0.019205430522561073, val acc: 0.5751107931137085\n",
      "\n"
     ]
    },
    {
     "name": "stderr",
     "output_type": "stream",
     "text": [
      "100%|██████████| 547/547 [00:49<00:00, 11.14it/s]\n",
      "100%|██████████| 235/235 [00:41<00:00,  5.64it/s]\n"
     ]
    },
    {
     "name": "stdout",
     "output_type": "stream",
     "text": [
      "Epoch 5\n",
      " train loss: 0.019135121256113052, train acc: 0.5673274397850037\n",
      " val loss: 0.019712695851922035, val acc: 0.560882031917572\n",
      "\n"
     ]
    },
    {
     "name": "stderr",
     "output_type": "stream",
     "text": [
      "100%|██████████| 547/547 [00:47<00:00, 11.63it/s]\n",
      "100%|██████████| 235/235 [00:41<00:00,  5.63it/s]\n"
     ]
    },
    {
     "name": "stdout",
     "output_type": "stream",
     "text": [
      "Epoch 6\n",
      " train loss: 0.018780093640089035, train acc: 0.5733587145805359\n",
      " val loss: 0.01904522255063057, val acc: 0.5710106492042542\n",
      "\n"
     ]
    },
    {
     "name": "stderr",
     "output_type": "stream",
     "text": [
      "100%|██████████| 547/547 [00:47<00:00, 11.41it/s]\n",
      "100%|██████████| 235/235 [00:41<00:00,  5.63it/s]\n"
     ]
    },
    {
     "name": "stdout",
     "output_type": "stream",
     "text": [
      "Epoch 7\n",
      " train loss: 0.018557682633399963, train acc: 0.5816670656204224\n",
      " val loss: 0.018907472491264343, val acc: 0.5755541324615479\n",
      "\n"
     ]
    },
    {
     "name": "stderr",
     "output_type": "stream",
     "text": [
      "100%|██████████| 547/547 [00:48<00:00, 11.32it/s]\n",
      "100%|██████████| 235/235 [00:41<00:00,  5.62it/s]\n"
     ]
    },
    {
     "name": "stdout",
     "output_type": "stream",
     "text": [
      "Epoch 8\n",
      " train loss: 0.018294012174010277, train acc: 0.5875514149665833\n",
      " val loss: 0.019468583166599274, val acc: 0.5687500238418579\n",
      "\n"
     ]
    },
    {
     "name": "stderr",
     "output_type": "stream",
     "text": [
      "100%|██████████| 547/547 [00:48<00:00, 11.36it/s]\n",
      "100%|██████████| 235/235 [00:41<00:00,  5.62it/s]\n"
     ]
    },
    {
     "name": "stdout",
     "output_type": "stream",
     "text": [
      "Epoch 9\n",
      " train loss: 0.018068062141537666, train acc: 0.5932521224021912\n",
      " val loss: 0.018543511629104614, val acc: 0.5838873386383057\n",
      "\n"
     ]
    },
    {
     "name": "stderr",
     "output_type": "stream",
     "text": [
      "100%|██████████| 547/547 [00:47<00:00, 11.42it/s]\n",
      "100%|██████████| 235/235 [00:43<00:00,  5.45it/s]\n"
     ]
    },
    {
     "name": "stdout",
     "output_type": "stream",
     "text": [
      "Epoch 10\n",
      " train loss: 0.017951728776097298, train acc: 0.5961371660232544\n",
      " val loss: 0.0181050356477499, val acc: 0.5934397578239441\n",
      "\n"
     ]
    },
    {
     "name": "stderr",
     "output_type": "stream",
     "text": [
      "100%|██████████| 547/547 [00:47<00:00, 11.59it/s]\n",
      "100%|██████████| 235/235 [00:42<00:00,  5.53it/s]\n"
     ]
    },
    {
     "name": "stdout",
     "output_type": "stream",
     "text": [
      "Epoch 11\n",
      " train loss: 0.017838960513472557, train acc: 0.6004627346992493\n",
      " val loss: 0.018267923966050148, val acc: 0.5874335169792175\n",
      "\n"
     ]
    },
    {
     "name": "stderr",
     "output_type": "stream",
     "text": [
      "100%|██████████| 547/547 [00:48<00:00, 11.27it/s]\n",
      "100%|██████████| 235/235 [00:46<00:00,  5.05it/s]\n"
     ]
    },
    {
     "name": "stdout",
     "output_type": "stream",
     "text": [
      "Epoch 12\n",
      " train loss: 0.017626872286200523, train acc: 0.6018338799476624\n",
      " val loss: 0.01721186377108097, val acc: 0.6133421659469604\n",
      "\n"
     ]
    },
    {
     "name": "stderr",
     "output_type": "stream",
     "text": [
      "100%|██████████| 547/547 [00:49<00:00, 11.04it/s]\n",
      "100%|██████████| 235/235 [00:43<00:00,  5.39it/s]\n"
     ]
    },
    {
     "name": "stdout",
     "output_type": "stream",
     "text": [
      "Epoch 13\n",
      " train loss: 0.0174639280885458, train acc: 0.6077753901481628\n",
      " val loss: 0.017370160669088364, val acc: 0.6108599901199341\n",
      "\n"
     ]
    },
    {
     "name": "stderr",
     "output_type": "stream",
     "text": [
      "100%|██████████| 547/547 [00:49<00:00, 11.10it/s]\n",
      "100%|██████████| 235/235 [00:43<00:00,  5.42it/s]\n"
     ]
    },
    {
     "name": "stdout",
     "output_type": "stream",
     "text": [
      "Epoch 14\n",
      " train loss: 0.01747874729335308, train acc: 0.6072611808776855\n",
      " val loss: 0.017574278637766838, val acc: 0.6112589240074158\n",
      "\n"
     ]
    },
    {
     "name": "stderr",
     "output_type": "stream",
     "text": [
      "100%|██████████| 547/547 [00:48<00:00, 11.23it/s]\n",
      "100%|██████████| 235/235 [00:43<00:00,  5.39it/s]\n"
     ]
    },
    {
     "name": "stdout",
     "output_type": "stream",
     "text": [
      "Epoch 15\n",
      " train loss: 0.017277240753173828, train acc: 0.611558198928833\n",
      " val loss: 0.017202498391270638, val acc: 0.6179078221321106\n",
      "\n"
     ]
    },
    {
     "name": "stderr",
     "output_type": "stream",
     "text": [
      "100%|██████████| 547/547 [00:47<00:00, 11.47it/s]\n",
      "100%|██████████| 235/235 [00:44<00:00,  5.31it/s]\n"
     ]
    },
    {
     "name": "stdout",
     "output_type": "stream",
     "text": [
      "Epoch 16\n",
      " train loss: 0.017227552831172943, train acc: 0.6102033853530884\n",
      " val loss: 0.017017701640725136, val acc: 0.6228501200675964\n",
      "\n"
     ]
    },
    {
     "name": "stderr",
     "output_type": "stream",
     "text": [
      "  0%|          | 0/547 [00:00<?, ?it/s]"
     ]
    }
   ],
   "source": [
    "# <your code here>\n",
    "# https://wandb.ai/pooh_08-hse/wandb_project?nw=nwuserpooh_08 \n",
    "\n",
    "def test(model, criterion, loader):\n",
    "    loss_log = []\n",
    "    acc_log = []\n",
    "    model.eval()\n",
    "    with torch.no_grad():\n",
    "\n",
    "        for data, target in tqdm(loader):\n",
    "\n",
    "            # <your code here>\n",
    "\n",
    "            data, target = data.to(device), target.to(device)\n",
    "            y_pred=net(data)\n",
    "            loss=criterion(y_pred, target)\n",
    "            #loss_log=torch.cat( (loss_log, loss.cpu().unsqueeze(0) / target.cpu().size(0)) )\n",
    "            loss_log.append(loss.cpu().data / target.cpu().size(0))\n",
    "            pred_class=torch.argmax(y_pred.cpu(), dim=-1)\n",
    "            #acc_log=torch.cat( (acc_log, (pred_class==target.cpu()).sum().unsqueeze(0)))\n",
    "            acc_log.append( (pred_class==target.cpu()).sum() / target.cpu().size(0) )\n",
    "\n",
    "        return np.mean(loss_log), np.mean(acc_log)\n",
    "\n",
    "\n",
    "def train_epoch(model, criterion, optimizer, train_loader):\n",
    "    loss_log = []\n",
    "    acc_log = []\n",
    "    model.train()\n",
    "\n",
    "    for data, target in tqdm(train_loader):\n",
    "\n",
    "        # <your code here>\n",
    "        data, target = data.to(device), target.to(device)\n",
    "        y_pred=net(data)\n",
    "        loss=criterion(y_pred, target)\n",
    "        loss.backward()\n",
    "        optimizer.step()\n",
    "        optimizer.zero_grad()\n",
    "        #loss_log=torch.cat( (loss_log, loss.cpu().unsqueeze(0) / target.cpu().size(0)) )\n",
    "        loss_log.append(loss.cpu().data / target.cpu().size(0))\n",
    "        pred_class=torch.argmax(y_pred.cpu(), dim=-1)\n",
    "        #acc_log=torch.cat( (acc_log, (pred_class==target.cpu()).sum().unsqueeze(0)))\n",
    "        acc_log.append( (pred_class==target.cpu()).sum() / target.cpu().size(0) )\n",
    "\n",
    "    return loss_log, acc_log\n",
    "\n",
    "\n",
    "def train(model, criterion, optimizer, n_epochs, train_loader, val_loader, scheduler=None, wandb_project=None):\n",
    "\n",
    "    # подключаем wandb\n",
    "    if wandb_project:\n",
    "        import wandb\n",
    "\n",
    "        wandb.init(project='wandb_project')\n",
    "        wandb.watch(model)\n",
    "\n",
    "    train_loss_log, train_acc_log, val_loss_log, val_acc_log = [], [], [], []\n",
    "\n",
    "    for epoch in range(n_epochs):\n",
    "        train_loss, train_acc = train_epoch(model, criterion, optimizer, train_loader)\n",
    "        val_loss, val_acc = test(model, criterion, val_loader)\n",
    "\n",
    "        if wandb_project:\n",
    "                wandb.log(\n",
    "                    {\n",
    "                        \"mean val loss\": np.mean(val_loss),\n",
    "                        \"mean val accuracy\": np.mean(val_acc),\n",
    "                    }\n",
    "                )\n",
    "\n",
    "        train_loss_log.extend(train_loss)\n",
    "        train_acc_log.extend(train_acc)\n",
    "\n",
    "        val_loss_log.append(val_loss)\n",
    "        val_acc_log.append(val_acc)\n",
    "\n",
    "        print(f\"Epoch {epoch}\")\n",
    "        print(f\" train loss: {np.mean(train_loss)}, train acc: {np.mean(train_acc)}\")\n",
    "        print(f\" val loss: {val_loss}, val acc: {val_acc}\\n\")\n",
    "\n",
    "        if scheduler is not None:\n",
    "            scheduler.step()\n",
    "\n",
    "    plot_history(train_loss_log, val_loss_log, 'Loss')\n",
    "    plot_history(train_acc_log, val_acc_log, 'Accuracy')\n",
    "\n",
    "    return train_loss_log, train_acc_log, val_loss_log, val_acc_log\n",
    "\n",
    "\n",
    "net = BasicBlockNet().to(device)\n",
    "optimizer = optim.SGD(net.parameters(), lr=0.1, momentum=0.9)\n",
    "criterion=nn.CrossEntropyLoss()\n",
    "train_loss_log, train_acc_log, val_loss_log, val_acc_log = train(\n",
    "    net, criterion, optimizer, 20, train_loader, val_loader, wandb_project=True\n",
    ")"
   ]
  },
  {
   "cell_type": "code",
   "execution_count": 59,
   "metadata": {},
   "outputs": [
    {
     "name": "stdout",
     "output_type": "stream",
     "text": [
      "Collecting wandb\n",
      "  Using cached wandb-0.19.10-py3-none-win_amd64.whl.metadata (10 kB)\n",
      "Requirement already satisfied: click!=8.0.0,>=7.1 in c:\\users\\admin\\appdata\\local\\packages\\pythonsoftwarefoundation.python.3.11_qbz5n2kfra8p0\\localcache\\local-packages\\python311\\site-packages (from wandb) (8.1.7)\n",
      "Collecting docker-pycreds>=0.4.0 (from wandb)\n",
      "  Using cached docker_pycreds-0.4.0-py2.py3-none-any.whl.metadata (1.8 kB)\n",
      "Requirement already satisfied: gitpython!=3.1.29,>=1.0.0 in c:\\users\\admin\\appdata\\local\\packages\\pythonsoftwarefoundation.python.3.11_qbz5n2kfra8p0\\localcache\\local-packages\\python311\\site-packages (from wandb) (3.1.43)\n",
      "Requirement already satisfied: platformdirs in c:\\users\\admin\\appdata\\local\\packages\\pythonsoftwarefoundation.python.3.11_qbz5n2kfra8p0\\localcache\\local-packages\\python311\\site-packages (from wandb) (4.3.6)\n",
      "Requirement already satisfied: protobuf!=4.21.0,!=5.28.0,<7,>=3.19.0 in c:\\users\\admin\\appdata\\local\\packages\\pythonsoftwarefoundation.python.3.11_qbz5n2kfra8p0\\localcache\\local-packages\\python311\\site-packages (from wandb) (5.29.2)\n",
      "Requirement already satisfied: psutil>=5.0.0 in c:\\users\\admin\\appdata\\local\\packages\\pythonsoftwarefoundation.python.3.11_qbz5n2kfra8p0\\localcache\\local-packages\\python311\\site-packages (from wandb) (6.1.0)\n",
      "Requirement already satisfied: pydantic<3 in c:\\users\\admin\\appdata\\local\\packages\\pythonsoftwarefoundation.python.3.11_qbz5n2kfra8p0\\localcache\\local-packages\\python311\\site-packages (from wandb) (2.10.4)\n",
      "Requirement already satisfied: pyyaml in c:\\users\\admin\\appdata\\local\\packages\\pythonsoftwarefoundation.python.3.11_qbz5n2kfra8p0\\localcache\\local-packages\\python311\\site-packages (from wandb) (6.0.2)\n",
      "Requirement already satisfied: requests<3,>=2.0.0 in c:\\users\\admin\\appdata\\local\\packages\\pythonsoftwarefoundation.python.3.11_qbz5n2kfra8p0\\localcache\\local-packages\\python311\\site-packages (from wandb) (2.32.3)\n",
      "Collecting sentry-sdk>=2.0.0 (from wandb)\n",
      "  Using cached sentry_sdk-2.27.0-py2.py3-none-any.whl.metadata (10 kB)\n",
      "Collecting setproctitle (from wandb)\n",
      "  Using cached setproctitle-1.3.6-cp311-cp311-win_amd64.whl.metadata (10 kB)\n",
      "Requirement already satisfied: setuptools in c:\\program files\\windowsapps\\pythonsoftwarefoundation.python.3.11_3.11.2544.0_x64__qbz5n2kfra8p0\\lib\\site-packages (from wandb) (65.5.0)\n",
      "Requirement already satisfied: typing-extensions<5,>=4.4 in c:\\users\\admin\\appdata\\local\\packages\\pythonsoftwarefoundation.python.3.11_qbz5n2kfra8p0\\localcache\\local-packages\\python311\\site-packages (from wandb) (4.12.2)\n",
      "Requirement already satisfied: colorama in c:\\users\\admin\\appdata\\local\\packages\\pythonsoftwarefoundation.python.3.11_qbz5n2kfra8p0\\localcache\\local-packages\\python311\\site-packages (from click!=8.0.0,>=7.1->wandb) (0.4.6)\n",
      "Requirement already satisfied: six>=1.4.0 in c:\\users\\admin\\appdata\\local\\packages\\pythonsoftwarefoundation.python.3.11_qbz5n2kfra8p0\\localcache\\local-packages\\python311\\site-packages (from docker-pycreds>=0.4.0->wandb) (1.16.0)\n",
      "Requirement already satisfied: gitdb<5,>=4.0.1 in c:\\users\\admin\\appdata\\local\\packages\\pythonsoftwarefoundation.python.3.11_qbz5n2kfra8p0\\localcache\\local-packages\\python311\\site-packages (from gitpython!=3.1.29,>=1.0.0->wandb) (4.0.11)\n",
      "Requirement already satisfied: annotated-types>=0.6.0 in c:\\users\\admin\\appdata\\local\\packages\\pythonsoftwarefoundation.python.3.11_qbz5n2kfra8p0\\localcache\\local-packages\\python311\\site-packages (from pydantic<3->wandb) (0.7.0)\n",
      "Requirement already satisfied: pydantic-core==2.27.2 in c:\\users\\admin\\appdata\\local\\packages\\pythonsoftwarefoundation.python.3.11_qbz5n2kfra8p0\\localcache\\local-packages\\python311\\site-packages (from pydantic<3->wandb) (2.27.2)\n",
      "Requirement already satisfied: charset-normalizer<4,>=2 in c:\\users\\admin\\appdata\\local\\packages\\pythonsoftwarefoundation.python.3.11_qbz5n2kfra8p0\\localcache\\local-packages\\python311\\site-packages (from requests<3,>=2.0.0->wandb) (3.4.0)\n",
      "Requirement already satisfied: idna<4,>=2.5 in c:\\users\\admin\\appdata\\local\\packages\\pythonsoftwarefoundation.python.3.11_qbz5n2kfra8p0\\localcache\\local-packages\\python311\\site-packages (from requests<3,>=2.0.0->wandb) (3.10)\n",
      "Requirement already satisfied: urllib3<3,>=1.21.1 in c:\\users\\admin\\appdata\\local\\packages\\pythonsoftwarefoundation.python.3.11_qbz5n2kfra8p0\\localcache\\local-packages\\python311\\site-packages (from requests<3,>=2.0.0->wandb) (2.2.3)\n",
      "Requirement already satisfied: certifi>=2017.4.17 in c:\\users\\admin\\appdata\\local\\packages\\pythonsoftwarefoundation.python.3.11_qbz5n2kfra8p0\\localcache\\local-packages\\python311\\site-packages (from requests<3,>=2.0.0->wandb) (2024.12.14)\n",
      "Requirement already satisfied: smmap<6,>=3.0.1 in c:\\users\\admin\\appdata\\local\\packages\\pythonsoftwarefoundation.python.3.11_qbz5n2kfra8p0\\localcache\\local-packages\\python311\\site-packages (from gitdb<5,>=4.0.1->gitpython!=3.1.29,>=1.0.0->wandb) (5.0.1)\n",
      "Using cached wandb-0.19.10-py3-none-win_amd64.whl (20.7 MB)\n",
      "Using cached docker_pycreds-0.4.0-py2.py3-none-any.whl (9.0 kB)\n",
      "Using cached sentry_sdk-2.27.0-py2.py3-none-any.whl (340 kB)\n",
      "Using cached setproctitle-1.3.6-cp311-cp311-win_amd64.whl (12 kB)\n",
      "Installing collected packages: setproctitle, sentry-sdk, docker-pycreds, wandb\n",
      "Successfully installed docker-pycreds-0.4.0 sentry-sdk-2.27.0 setproctitle-1.3.6 wandb-0.19.10\n",
      "Note: you may need to restart the kernel to use updated packages.\n"
     ]
    },
    {
     "name": "stderr",
     "output_type": "stream",
     "text": [
      "\n",
      "[notice] A new release of pip is available: 24.0 -> 25.1.1\n",
      "[notice] To update, run: C:\\Users\\admin\\AppData\\Local\\Microsoft\\WindowsApps\\PythonSoftwareFoundation.Python.3.11_qbz5n2kfra8p0\\python.exe -m pip install --upgrade pip\n"
     ]
    }
   ],
   "source": [
    "%pip install wandb"
   ]
  },
  {
   "cell_type": "code",
   "execution_count": null,
   "metadata": {},
   "outputs": [],
   "source": []
  }
 ],
 "metadata": {
  "accelerator": "GPU",
  "colab": {
   "collapsed_sections": [],
   "provenance": []
  },
  "kernelspec": {
   "display_name": "Python 3",
   "language": "python",
   "name": "python3"
  },
  "language_info": {
   "codemirror_mode": {
    "name": "ipython",
    "version": 3
   },
   "file_extension": ".py",
   "mimetype": "text/x-python",
   "name": "python",
   "nbconvert_exporter": "python",
   "pygments_lexer": "ipython3",
   "version": "3.11.9"
  },
  "widgets": {
   "application/vnd.jupyter.widget-state+json": {
    "0fee9f5b7bdb4129a71ef0cfe9d3b1fa": {
     "model_module": "@jupyter-widgets/controls",
     "model_module_version": "1.5.0",
     "model_name": "ProgressStyleModel",
     "state": {
      "_model_module": "@jupyter-widgets/controls",
      "_model_module_version": "1.5.0",
      "_model_name": "ProgressStyleModel",
      "_view_count": null,
      "_view_module": "@jupyter-widgets/base",
      "_view_module_version": "1.2.0",
      "_view_name": "StyleView",
      "bar_color": null,
      "description_width": ""
     }
    },
    "17b2be81159e41f1a5c6bb966516572e": {
     "model_module": "@jupyter-widgets/base",
     "model_module_version": "1.2.0",
     "model_name": "LayoutModel",
     "state": {
      "_model_module": "@jupyter-widgets/base",
      "_model_module_version": "1.2.0",
      "_model_name": "LayoutModel",
      "_view_count": null,
      "_view_module": "@jupyter-widgets/base",
      "_view_module_version": "1.2.0",
      "_view_name": "LayoutView",
      "align_content": null,
      "align_items": null,
      "align_self": null,
      "border": null,
      "bottom": null,
      "display": null,
      "flex": null,
      "flex_flow": null,
      "grid_area": null,
      "grid_auto_columns": null,
      "grid_auto_flow": null,
      "grid_auto_rows": null,
      "grid_column": null,
      "grid_gap": null,
      "grid_row": null,
      "grid_template_areas": null,
      "grid_template_columns": null,
      "grid_template_rows": null,
      "height": null,
      "justify_content": null,
      "justify_items": null,
      "left": null,
      "margin": null,
      "max_height": null,
      "max_width": null,
      "min_height": null,
      "min_width": null,
      "object_fit": null,
      "object_position": null,
      "order": null,
      "overflow": null,
      "overflow_x": null,
      "overflow_y": null,
      "padding": null,
      "right": null,
      "top": null,
      "visibility": null,
      "width": null
     }
    },
    "18b20091dbf64b129824a8fb3266e3c0": {
     "model_module": "@jupyter-widgets/controls",
     "model_module_version": "1.5.0",
     "model_name": "DescriptionStyleModel",
     "state": {
      "_model_module": "@jupyter-widgets/controls",
      "_model_module_version": "1.5.0",
      "_model_name": "DescriptionStyleModel",
      "_view_count": null,
      "_view_module": "@jupyter-widgets/base",
      "_view_module_version": "1.2.0",
      "_view_name": "StyleView",
      "description_width": ""
     }
    },
    "22bb21a6c57a413fb7374efe31349e6e": {
     "model_module": "@jupyter-widgets/base",
     "model_module_version": "1.2.0",
     "model_name": "LayoutModel",
     "state": {
      "_model_module": "@jupyter-widgets/base",
      "_model_module_version": "1.2.0",
      "_model_name": "LayoutModel",
      "_view_count": null,
      "_view_module": "@jupyter-widgets/base",
      "_view_module_version": "1.2.0",
      "_view_name": "LayoutView",
      "align_content": null,
      "align_items": null,
      "align_self": null,
      "border": null,
      "bottom": null,
      "display": null,
      "flex": null,
      "flex_flow": null,
      "grid_area": null,
      "grid_auto_columns": null,
      "grid_auto_flow": null,
      "grid_auto_rows": null,
      "grid_column": null,
      "grid_gap": null,
      "grid_row": null,
      "grid_template_areas": null,
      "grid_template_columns": null,
      "grid_template_rows": null,
      "height": null,
      "justify_content": null,
      "justify_items": null,
      "left": null,
      "margin": null,
      "max_height": null,
      "max_width": null,
      "min_height": null,
      "min_width": null,
      "object_fit": null,
      "object_position": null,
      "order": null,
      "overflow": null,
      "overflow_x": null,
      "overflow_y": null,
      "padding": null,
      "right": null,
      "top": null,
      "visibility": null,
      "width": null
     }
    },
    "7d238166caf64537ad9aa2040dcdc1ec": {
     "model_module": "@jupyter-widgets/controls",
     "model_module_version": "1.5.0",
     "model_name": "DescriptionStyleModel",
     "state": {
      "_model_module": "@jupyter-widgets/controls",
      "_model_module_version": "1.5.0",
      "_model_name": "DescriptionStyleModel",
      "_view_count": null,
      "_view_module": "@jupyter-widgets/base",
      "_view_module_version": "1.2.0",
      "_view_name": "StyleView",
      "description_width": ""
     }
    },
    "95c5696493db48738dbdc9940acec1d8": {
     "model_module": "@jupyter-widgets/controls",
     "model_module_version": "1.5.0",
     "model_name": "HTMLModel",
     "state": {
      "_dom_classes": [],
      "_model_module": "@jupyter-widgets/controls",
      "_model_module_version": "1.5.0",
      "_model_name": "HTMLModel",
      "_view_count": null,
      "_view_module": "@jupyter-widgets/controls",
      "_view_module_version": "1.5.0",
      "_view_name": "HTMLView",
      "description": "",
      "description_tooltip": null,
      "layout": "IPY_MODEL_22bb21a6c57a413fb7374efe31349e6e",
      "placeholder": "​",
      "style": "IPY_MODEL_18b20091dbf64b129824a8fb3266e3c0",
      "value": "100%"
     }
    },
    "9bad0d6a00c14229b0d776a2cfe15090": {
     "model_module": "@jupyter-widgets/base",
     "model_module_version": "1.2.0",
     "model_name": "LayoutModel",
     "state": {
      "_model_module": "@jupyter-widgets/base",
      "_model_module_version": "1.2.0",
      "_model_name": "LayoutModel",
      "_view_count": null,
      "_view_module": "@jupyter-widgets/base",
      "_view_module_version": "1.2.0",
      "_view_name": "LayoutView",
      "align_content": null,
      "align_items": null,
      "align_self": null,
      "border": null,
      "bottom": null,
      "display": null,
      "flex": null,
      "flex_flow": null,
      "grid_area": null,
      "grid_auto_columns": null,
      "grid_auto_flow": null,
      "grid_auto_rows": null,
      "grid_column": null,
      "grid_gap": null,
      "grid_row": null,
      "grid_template_areas": null,
      "grid_template_columns": null,
      "grid_template_rows": null,
      "height": null,
      "justify_content": null,
      "justify_items": null,
      "left": null,
      "margin": null,
      "max_height": null,
      "max_width": null,
      "min_height": null,
      "min_width": null,
      "object_fit": null,
      "object_position": null,
      "order": null,
      "overflow": null,
      "overflow_x": null,
      "overflow_y": null,
      "padding": null,
      "right": null,
      "top": null,
      "visibility": null,
      "width": null
     }
    },
    "aa9da821ba0c42b5b051355e50e691f0": {
     "model_module": "@jupyter-widgets/controls",
     "model_module_version": "1.5.0",
     "model_name": "HBoxModel",
     "state": {
      "_dom_classes": [],
      "_model_module": "@jupyter-widgets/controls",
      "_model_module_version": "1.5.0",
      "_model_name": "HBoxModel",
      "_view_count": null,
      "_view_module": "@jupyter-widgets/controls",
      "_view_module_version": "1.5.0",
      "_view_name": "HBoxView",
      "box_style": "",
      "children": [
       "IPY_MODEL_95c5696493db48738dbdc9940acec1d8",
       "IPY_MODEL_fe515a1f743f49d0b251b43919d52a8e",
       "IPY_MODEL_f4f339c969fd4e21bc683ecb2567897b"
      ],
      "layout": "IPY_MODEL_17b2be81159e41f1a5c6bb966516572e"
     }
    },
    "cd991379661b4b4ab405bf66f75c6834": {
     "model_module": "@jupyter-widgets/base",
     "model_module_version": "1.2.0",
     "model_name": "LayoutModel",
     "state": {
      "_model_module": "@jupyter-widgets/base",
      "_model_module_version": "1.2.0",
      "_model_name": "LayoutModel",
      "_view_count": null,
      "_view_module": "@jupyter-widgets/base",
      "_view_module_version": "1.2.0",
      "_view_name": "LayoutView",
      "align_content": null,
      "align_items": null,
      "align_self": null,
      "border": null,
      "bottom": null,
      "display": null,
      "flex": null,
      "flex_flow": null,
      "grid_area": null,
      "grid_auto_columns": null,
      "grid_auto_flow": null,
      "grid_auto_rows": null,
      "grid_column": null,
      "grid_gap": null,
      "grid_row": null,
      "grid_template_areas": null,
      "grid_template_columns": null,
      "grid_template_rows": null,
      "height": null,
      "justify_content": null,
      "justify_items": null,
      "left": null,
      "margin": null,
      "max_height": null,
      "max_width": null,
      "min_height": null,
      "min_width": null,
      "object_fit": null,
      "object_position": null,
      "order": null,
      "overflow": null,
      "overflow_x": null,
      "overflow_y": null,
      "padding": null,
      "right": null,
      "top": null,
      "visibility": null,
      "width": null
     }
    },
    "f4f339c969fd4e21bc683ecb2567897b": {
     "model_module": "@jupyter-widgets/controls",
     "model_module_version": "1.5.0",
     "model_name": "HTMLModel",
     "state": {
      "_dom_classes": [],
      "_model_module": "@jupyter-widgets/controls",
      "_model_module_version": "1.5.0",
      "_model_name": "HTMLModel",
      "_view_count": null,
      "_view_module": "@jupyter-widgets/controls",
      "_view_module_version": "1.5.0",
      "_view_name": "HTMLView",
      "description": "",
      "description_tooltip": null,
      "layout": "IPY_MODEL_cd991379661b4b4ab405bf66f75c6834",
      "placeholder": "​",
      "style": "IPY_MODEL_7d238166caf64537ad9aa2040dcdc1ec",
      "value": " 170498071/170498071 [00:13&lt;00:00, 13339884.37it/s]"
     }
    },
    "fe515a1f743f49d0b251b43919d52a8e": {
     "model_module": "@jupyter-widgets/controls",
     "model_module_version": "1.5.0",
     "model_name": "FloatProgressModel",
     "state": {
      "_dom_classes": [],
      "_model_module": "@jupyter-widgets/controls",
      "_model_module_version": "1.5.0",
      "_model_name": "FloatProgressModel",
      "_view_count": null,
      "_view_module": "@jupyter-widgets/controls",
      "_view_module_version": "1.5.0",
      "_view_name": "ProgressView",
      "bar_style": "success",
      "description": "",
      "description_tooltip": null,
      "layout": "IPY_MODEL_9bad0d6a00c14229b0d776a2cfe15090",
      "max": 170498071,
      "min": 0,
      "orientation": "horizontal",
      "style": "IPY_MODEL_0fee9f5b7bdb4129a71ef0cfe9d3b1fa",
      "value": 170498071
     }
    }
   }
  }
 },
 "nbformat": 4,
 "nbformat_minor": 1
}
